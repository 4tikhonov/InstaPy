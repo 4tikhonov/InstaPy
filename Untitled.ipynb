{
 "cells": [
  {
   "cell_type": "code",
   "execution_count": null,
   "metadata": {
    "scrolled": false
   },
   "outputs": [
    {
     "name": "stdout",
     "output_type": "stream",
     "text": [
      "Zasranec\n"
     ]
    },
    {
     "name": "stderr",
     "output_type": "stream",
     "text": [
      "INFO [2018-05-29 22:07:52] [zeusfsx]  Session started - 2018-05-29 22:07:52\n",
      "WARNING [2018-05-29 22:07:52] [zeusfsx]  Sorry, Record Activity is not working on Windows. We're working to fix this soon!\n",
      "INFO [2018-05-29 22:08:30] [zeusfsx]  Logged in successfully!\n",
      "INFO [2018-05-29 22:08:34] [zeusfsx]  --> timatiofficial instagram account is opened...\n",
      "INFO [2018-05-29 22:08:45] [zeusfsx]  ---> Now following: timatiofficial\n",
      "INFO [2018-05-29 22:08:49] [zeusfsx]  Total Follow: 1\n",
      "INFO [2018-05-29 22:08:51] [zeusfsx]  --> _agentgirl_ instagram account is opened...\n",
      "INFO [2018-05-29 22:09:00] [zeusfsx]  ---> Now following: _agentgirl_\n",
      "INFO [2018-05-29 22:09:03] [zeusfsx]  Total Follow: 2\n",
      "INFO [2018-05-29 22:09:05] [zeusfsx]  --> missalena.92 instagram account is opened...\n",
      "INFO [2018-05-29 22:09:17] [zeusfsx]  ---> Now following: missalena.92\n",
      "INFO [2018-05-29 22:09:20] [zeusfsx]  Total Follow: 3\n",
      "INFO [2018-05-29 22:09:22] [zeusfsx]  --> egorkreed instagram account is opened...\n",
      "INFO [2018-05-29 22:09:29] [zeusfsx]  ---> Now following: egorkreed\n",
      "INFO [2018-05-29 22:09:32] [zeusfsx]  Total Follow: 4\n",
      "INFO [2018-05-29 22:09:34] [zeusfsx]  --> xenia_sobchak instagram account is opened...\n",
      "INFO [2018-05-29 22:09:46] [zeusfsx]  ---> Now following: xenia_sobchak\n",
      "INFO [2018-05-29 22:09:49] [zeusfsx]  Total Follow: 5\n",
      "INFO [2018-05-29 22:09:51] [zeusfsx]  --> goar_avetisyan instagram account is opened...\n",
      "INFO [2018-05-29 22:10:01] [zeusfsx]  ---> Now following: goar_avetisyan\n",
      "INFO [2018-05-29 22:10:04] [zeusfsx]  Total Follow: 6\n",
      "INFO [2018-05-29 22:10:06] [zeusfsx]  --> mmott23 instagram account is opened...\n",
      "INFO [2018-05-29 22:10:15] [zeusfsx]  ---> Now following: mmott23\n",
      "INFO [2018-05-29 22:10:18] [zeusfsx]  Total Follow: 7\n",
      "INFO [2018-05-29 22:10:20] [zeusfsx]  --> garikkharlamov instagram account is opened...\n",
      "INFO [2018-05-29 22:10:31] [zeusfsx]  ---> Now following: garikkharlamov\n",
      "INFO [2018-05-29 22:10:33] [zeusfsx]  Total Follow: 8\n",
      "INFO [2018-05-29 22:10:35] [zeusfsx]  --> just.baby instagram account is opened...\n",
      "INFO [2018-05-29 22:10:45] [zeusfsx]  ---> Now following: just.baby\n",
      "INFO [2018-05-29 22:10:47] [zeusfsx]  Total Follow: 9\n",
      "INFO [2018-05-29 22:10:49] [zeusfsx]  --> rudovanata instagram account is opened...\n",
      "INFO [2018-05-29 22:10:59] [zeusfsx]  ---> Now following: rudovanata\n",
      "INFO [2018-05-29 22:11:01] [zeusfsx]  Total Follow: 10\n",
      "INFO [2018-05-29 22:11:03] [zeusfsx]  --> sashabankswwe instagram account is opened...\n",
      "INFO [2018-05-29 22:11:17] [zeusfsx]  ---> Now following: sashabankswwe\n",
      "INFO [2018-05-29 22:11:20] [zeusfsx]  Total Follow: 11\n",
      "INFO [2018-05-29 22:11:22] [zeusfsx]  --> yan_gordienko instagram account is opened...\n",
      "INFO [2018-05-29 22:11:33] [zeusfsx]  ---> Now following: yan_gordienko\n",
      "INFO [2018-05-29 22:11:37] [zeusfsx]  Total Follow: 12\n",
      "INFO [2018-05-29 22:11:37] [zeusfsx]  Followed 12 new users ~sleeping about 18.43 minutes\n",
      "INFO [2018-05-29 22:29:57] [zeusfsx]  --> doctor_komarovskiy instagram account is opened...\n",
      "INFO [2018-05-29 22:30:11] [zeusfsx]  ---> Now following: doctor_komarovskiy\n",
      "INFO [2018-05-29 22:30:13] [zeusfsx]  Total Follow: 13\n",
      "INFO [2018-05-29 22:30:15] [zeusfsx]  --> pusshman instagram account is opened...\n",
      "INFO [2018-05-29 22:30:33] [zeusfsx]  ---> Now following: pusshman\n",
      "INFO [2018-05-29 22:30:35] [zeusfsx]  Total Follow: 14\n",
      "INFO [2018-05-29 22:30:37] [zeusfsx]  --> mkozhevnikova instagram account is opened...\n",
      "INFO [2018-05-29 22:30:53] [zeusfsx]  ---> Now following: mkozhevnikova\n",
      "INFO [2018-05-29 22:30:56] [zeusfsx]  Total Follow: 15\n",
      "INFO [2018-05-29 22:30:58] [zeusfsx]  --> volkswagen instagram account is opened...\n",
      "INFO [2018-05-29 22:31:14] [zeusfsx]  ---> Now following: volkswagen\n",
      "INFO [2018-05-29 22:31:17] [zeusfsx]  Total Follow: 16\n",
      "INFO [2018-05-29 22:31:19] [zeusfsx]  --> super_zhest instagram account is opened...\n",
      "INFO [2018-05-29 22:31:36] [zeusfsx]  ---> Now following: super_zhest\n",
      "INFO [2018-05-29 22:31:39] [zeusfsx]  Total Follow: 17\n",
      "INFO [2018-05-29 22:31:41] [zeusfsx]  --> great.foood instagram account is opened...\n",
      "INFO [2018-05-29 22:31:56] [zeusfsx]  ---> Now following: great.foood\n",
      "INFO [2018-05-29 22:31:59] [zeusfsx]  Total Follow: 18\n",
      "INFO [2018-05-29 22:32:00] [zeusfsx]  --> marysenn instagram account is opened...\n",
      "INFO [2018-05-29 22:32:16] [zeusfsx]  ---> Now following: marysenn\n",
      "INFO [2018-05-29 22:32:19] [zeusfsx]  Total Follow: 19\n",
      "INFO [2018-05-29 22:32:20] [zeusfsx]  --> comedyclubru instagram account is opened...\n",
      "INFO [2018-05-29 22:32:33] [zeusfsx]  ---> Now following: comedyclubru\n",
      "INFO [2018-05-29 22:32:36] [zeusfsx]  Total Follow: 20\n",
      "INFO [2018-05-29 22:32:37] [zeusfsx]  --> lenaperminova instagram account is opened...\n",
      "INFO [2018-05-29 22:32:53] [zeusfsx]  ---> Now following: lenaperminova\n",
      "INFO [2018-05-29 22:32:56] [zeusfsx]  Total Follow: 21\n",
      "INFO [2018-05-29 22:32:58] [zeusfsx]  --> chistyakova_ionova instagram account is opened...\n",
      "INFO [2018-05-29 22:33:15] [zeusfsx]  ---> Now following: chistyakova_ionova\n"
     ]
    }
   ],
   "source": [
    "from instapy.instapy import InstaPy\n",
    "\n",
    "insta_username = 'zeusfsx'\n",
    "insta_password = 'instagrambot'\n",
    "usernames = ['timatiofficial','_agentgirl_','missalena.92', 'egorkreed','xenia_sobchak',\n",
    "            'goar_avetisyan','mmott23','garikkharlamov','just.baby','rudovanata','sashabankswwe',\n",
    "            'yan_gordienko','doctor_komarovskiy','pusshman','mkozhevnikova','volkswagen','super_zhest',\n",
    "            'great.foood','marysenn','comedyclubru','lenaperminova','chistyakova_ionova','irina_gorbacheva',\n",
    "            'dom.kylinaria','blackstarofficial','mikethemiz','elle_four_mom','sashachistova','nika_viper','mariaviskunova']\n",
    "\n",
    "session = InstaPy(username=insta_username, password=insta_password)\n",
    "session.login()\n",
    "\n",
    "session.follow_by_list(usernames, times=1, sleep_delay=1000, interact=False)\n",
    "#SETTINGS:\n",
    "#set limit of posts to analyze:\n",
    "#limit_amount = 24\n",
    "#session.accounts_to_json(['dima_dodyak'],limit_amount) \n",
    "#session.feeds_to_json(limit_amount)   \n",
    "# end the bot session\n",
    "session.end()\n",
    "#display.stop()"
   ]
  },
  {
   "cell_type": "code",
   "execution_count": null,
   "metadata": {
    "collapsed": true
   },
   "outputs": [],
   "source": []
  },
  {
   "cell_type": "code",
   "execution_count": null,
   "metadata": {
    "collapsed": true
   },
   "outputs": [],
   "source": []
  }
 ],
 "metadata": {
  "kernelspec": {
   "display_name": "Python 3",
   "language": "python",
   "name": "python3"
  },
  "language_info": {
   "codemirror_mode": {
    "name": "ipython",
    "version": 3
   },
   "file_extension": ".py",
   "mimetype": "text/x-python",
   "name": "python",
   "nbconvert_exporter": "python",
   "pygments_lexer": "ipython3",
   "version": "3.6.1"
  }
 },
 "nbformat": 4,
 "nbformat_minor": 2
}
