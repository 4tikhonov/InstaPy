{
 "cells": [
  {
   "cell_type": "code",
   "execution_count": 1,
   "metadata": {
    "scrolled": false
   },
   "outputs": [
    {
     "name": "stderr",
     "output_type": "stream",
     "text": [
      "INFO [2018-06-01 15:13:19] [zeusfsx]  Session started - 2018-06-01 15:13:19\n",
      "WARNING [2018-06-01 15:13:19] [zeusfsx]  Sorry, Record Activity is not working on Windows. We're working to fix this soon!\n",
      "INFO [2018-06-01 15:14:00] [zeusfsx]  Logged in successfully!\n",
      "INFO [2018-06-01 15:14:03] [zeusfsx]  \n",
      "Get information from Google\n",
      "\n",
      "INFO [2018-06-01 15:14:24] [zeusfsx]  Finished get information from Google\n",
      "INFO [2018-06-01 15:14:28] [zeusfsx]  Session ended - 2018-06-01 15:14:28\n",
      "INFO [2018-06-01 15:14:28] [zeusfsx]  --------------------\n",
      "\n",
      "\n"
     ]
    }
   ],
   "source": [
    "import json\n",
    "from instapy import InstaPy\n",
    "from re import findall\n",
    "import math\n",
    "from selenium.common.exceptions import NoSuchElementException\n",
    "from selenium.webdriver.common.keys import Keys\n",
    "\n",
    "insta_username = 'zeusfsx'\n",
    "insta_password = 'instagrambot'\n",
    "\n",
    "# if you want to run this script on a server,\n",
    "# simply add nogui=True to the InstaPy() constructor\n",
    "session = InstaPy(username=insta_username, password=insta_password)\n",
    "session.login()\n",
    "req = 'instagram'                \n",
    "session.google_to_json(req)\n",
    "session.end()"
   ]
  },
  {
   "cell_type": "code",
   "execution_count": null,
   "metadata": {
    "collapsed": true
   },
   "outputs": [],
   "source": []
  },
  {
   "cell_type": "code",
   "execution_count": null,
   "metadata": {
    "collapsed": true
   },
   "outputs": [],
   "source": []
  }
 ],
 "metadata": {
  "kernelspec": {
   "display_name": "Python 3",
   "language": "python",
   "name": "python3"
  },
  "language_info": {
   "codemirror_mode": {
    "name": "ipython",
    "version": 3
   },
   "file_extension": ".py",
   "mimetype": "text/x-python",
   "name": "python",
   "nbconvert_exporter": "python",
   "pygments_lexer": "ipython3",
   "version": "3.6.1"
  }
 },
 "nbformat": 4,
 "nbformat_minor": 2
}
