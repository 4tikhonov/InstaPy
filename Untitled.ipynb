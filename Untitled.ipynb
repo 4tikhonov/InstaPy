{
 "cells": [
  {
   "cell_type": "code",
   "execution_count": 2,
   "metadata": {
    "scrolled": true
   },
   "outputs": [
    {
     "name": "stderr",
     "output_type": "stream",
     "text": [
      "INFO [2018-06-02 14:15:39] [zeusfsx]  Session started - 2018-06-02 14:15:39\n",
      "WARNING [2018-06-02 14:15:39] [zeusfsx]  Sorry, Record Activity is not working on Windows. We're working to fix this soon!\n",
      "INFO [2018-06-02 14:16:17] [zeusfsx]  Logged in successfully!\n",
      "INFO [2018-06-02 14:16:20] [zeusfsx]  Get information from Google\n",
      "INFO [2018-06-02 14:16:27] [zeusfsx]  Finished get information from Google\n",
      "INFO [2018-06-02 14:16:31] [zeusfsx]  Session ended - 2018-06-02 14:16:31\n",
      "INFO [2018-06-02 14:16:31] [zeusfsx]  --------------------\n",
      "\n",
      "\n"
     ]
    }
   ],
   "source": [
    "import json\n",
    "from instapy import InstaPy\n",
    "from re import findall\n",
    "import math\n",
    "from selenium.common.exceptions import NoSuchElementException\n",
    "from selenium.webdriver.common.keys import Keys\n",
    "\n",
    "insta_username = ''\n",
    "insta_password = ''\n",
    "\n",
    "# if you want to run this script on a server,\n",
    "# simply add nogui=True to the InstaPy() constructor\n",
    "session = InstaPy(username=insta_username, password=insta_password)\n",
    "session.login()\n",
    "req = 'what is it json?'                \n",
    "session.google_to_json(req,3)\n",
    "session.end()"
   ]
  },
  {
   "cell_type": "code",
   "execution_count": null,
   "metadata": {
    "collapsed": true
   },
   "outputs": [],
   "source": []
  },
  {
   "cell_type": "code",
   "execution_count": null,
   "metadata": {
    "collapsed": true
   },
   "outputs": [],
   "source": []
  }
 ],
 "metadata": {
  "kernelspec": {
   "display_name": "Python 3",
   "language": "python",
   "name": "python3"
  },
  "language_info": {
   "codemirror_mode": {
    "name": "ipython",
    "version": 3
   },
   "file_extension": ".py",
   "mimetype": "text/x-python",
   "name": "python",
   "nbconvert_exporter": "python",
   "pygments_lexer": "ipython3",
   "version": "3.6.1"
  }
 },
 "nbformat": 4,
 "nbformat_minor": 2
}
