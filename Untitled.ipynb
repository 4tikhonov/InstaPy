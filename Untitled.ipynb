{
 "cells": [
  {
   "cell_type": "code",
   "execution_count": 1,
   "metadata": {
    "scrolled": false
   },
   "outputs": [
    {
     "name": "stderr",
     "output_type": "stream",
     "text": [
      "INFO [2018-06-06 14:19:20] [zeusfsx]  Session started - 2018-06-06 14:19:20\n",
      "WARNING [2018-06-06 14:19:20] [zeusfsx]  Sorry, Record Activity is not working on Windows. We're working to fix this soon!\n",
      "INFO [2018-06-06 14:19:58] [zeusfsx]  Logged in successfully!\n",
      "INFO [2018-06-06 14:20:11] [zeusfsx]  Total of links feched for analysis: 8\n",
      "INFO [2018-06-06 14:20:12] [zeusfsx]  ~~~~~~~~~~~~~~~~~~~~~~~~~~~\n",
      "INFO [2018-06-06 14:20:12] [zeusfsx]  ~~~~~~~~~~~~~~~~~~~~~~~~~~~\n"
     ]
    },
    {
     "name": "stdout",
     "output_type": "stream",
     "text": [
      "0 https://www.instagram.com/p/BjreDLpBD5O/\n",
      "1 https://www.instagram.com/p/BjrbUx9jcY6/\n",
      "2 https://www.instagram.com/p/Bjram5khH6c/\n",
      "3 https://www.instagram.com/p/BjrXCmOlxaB/\n",
      "4 https://www.instagram.com/p/BjrZkxXH0Id/\n",
      "5 https://www.instagram.com/p/BjrW_cgAlgV/\n",
      "6 https://www.instagram.com/p/BjrWui5HQZz/\n",
      "7 https://www.instagram.com/p/BjrNP2sg3-y/\n"
     ]
    },
    {
     "name": "stderr",
     "output_type": "stream",
     "text": [
      "INFO [2018-06-06 14:20:20] [zeusfsx]  Total of links feched for analysis: 8\n",
      "INFO [2018-06-06 14:20:20] [zeusfsx]  ~~~~~~~~~~~~~~~~~~~~~~~~~~~\n",
      "INFO [2018-06-06 14:20:20] [zeusfsx]  ~~~~~~~~~~~~~~~~~~~~~~~~~~~\n"
     ]
    },
    {
     "name": "stdout",
     "output_type": "stream",
     "text": [
      "0 https://www.instagram.com/p/BjqSCKXnxbv/\n",
      "1 https://www.instagram.com/p/BjrJASAgkZ8/\n",
      "2 https://www.instagram.com/p/BjrJDWcFjbh/\n",
      "3 https://www.instagram.com/p/Bjq-7LFFReV/\n",
      "4 https://www.instagram.com/p/BjqvouWAqK_/\n",
      "5 https://www.instagram.com/p/BjrLHCGnPKm/\n",
      "6 https://www.instagram.com/p/BjrCDJkH80Q/\n",
      "7 https://www.instagram.com/p/BjohlFgBuwe/\n",
      "\n",
      " 1 / 16\n",
      "\n",
      "Scrapping link:  https://www.instagram.com/p/BjreDLpBD5O/?__a=1\n",
      "\n",
      " 2 / 16\n",
      "\n",
      "Scrapping link:  https://www.instagram.com/p/BjrbUx9jcY6/?__a=1\n",
      "\n",
      " 3 / 16\n",
      "\n",
      "Scrapping link:  https://www.instagram.com/p/Bjram5khH6c/?__a=1\n",
      "\n",
      " 4 / 16\n",
      "\n",
      "Scrapping link:  https://www.instagram.com/p/BjrXCmOlxaB/?__a=1\n",
      "\n",
      " 5 / 16\n",
      "\n",
      "Scrapping link:  https://www.instagram.com/p/BjrZkxXH0Id/?__a=1\n",
      "\n",
      " 6 / 16\n",
      "\n",
      "Scrapping link:  https://www.instagram.com/p/BjrW_cgAlgV/?__a=1\n",
      "\n",
      " 7 / 16\n",
      "\n",
      "Scrapping link:  https://www.instagram.com/p/BjrWui5HQZz/?__a=1\n",
      "\n",
      " 8 / 16\n",
      "\n",
      "Scrapping link:  https://www.instagram.com/p/BjrNP2sg3-y/?__a=1\n",
      "\n",
      " 9 / 16\n",
      "\n",
      "Scrapping link:  https://www.instagram.com/p/BjqSCKXnxbv/?__a=1\n",
      "\n",
      " 10 / 16\n",
      "\n",
      "Scrapping link:  https://www.instagram.com/p/BjrJASAgkZ8/?__a=1\n",
      "\n",
      " 11 / 16\n",
      "\n",
      "Scrapping link:  https://www.instagram.com/p/BjrJDWcFjbh/?__a=1\n",
      "\n",
      " 12 / 16\n",
      "\n",
      "Scrapping link:  https://www.instagram.com/p/Bjq-7LFFReV/?__a=1\n",
      "\n",
      " 13 / 16\n",
      "\n",
      "Scrapping link:  https://www.instagram.com/p/BjqvouWAqK_/?__a=1\n",
      "\n",
      " 14 / 16\n",
      "\n",
      "Scrapping link:  https://www.instagram.com/p/BjrLHCGnPKm/?__a=1\n",
      "\n",
      " 15 / 16\n",
      "\n",
      "Scrapping link:  https://www.instagram.com/p/BjrCDJkH80Q/?__a=1\n",
      "\n",
      " 16 / 16\n",
      "\n",
      "Scrapping link:  https://www.instagram.com/p/BjohlFgBuwe/?__a=1\n"
     ]
    },
    {
     "name": "stderr",
     "output_type": "stream",
     "text": [
      "INFO [2018-06-06 14:21:05] [zeusfsx]  \n",
      "Finished. The json of news has saved in profiles directory.\n",
      "\n",
      "INFO [2018-06-06 14:21:07] [zeusfsx]  Session ended - 2018-06-06 14:21:07\n",
      "INFO [2018-06-06 14:21:07] [zeusfsx]  --------------------\n",
      "\n",
      "\n"
     ]
    }
   ],
   "source": [
    "import json\n",
    "from instapy import InstaPy\n",
    "from re import findall\n",
    "import math\n",
    "from selenium.common.exceptions import NoSuchElementException\n",
    "from selenium.webdriver.common.keys import Keys\n",
    "from time import sleep\n",
    "import json\n",
    "\n",
    "insta_username = 'zeusfsx'\n",
    "insta_password = 'instagrambot'\n",
    "\n",
    "\n",
    "session = InstaPy(username=insta_username, password=insta_password)\n",
    "session.login()\n",
    "limit_amount = 24\n",
    "#session.accounts_to_json([\"natgeo\"],limit_amount)\n",
    "session.feeds_to_json(limit_amount = 15)\n",
    "session.end()"
   ]
  },
  {
   "cell_type": "code",
   "execution_count": null,
   "metadata": {},
   "outputs": [],
   "source": []
  },
  {
   "cell_type": "code",
   "execution_count": null,
   "metadata": {
    "collapsed": true
   },
   "outputs": [],
   "source": []
  },
  {
   "cell_type": "code",
   "execution_count": null,
   "metadata": {
    "collapsed": true
   },
   "outputs": [],
   "source": []
  }
 ],
 "metadata": {
  "kernelspec": {
   "display_name": "Python 3",
   "language": "python",
   "name": "python3"
  },
  "language_info": {
   "codemirror_mode": {
    "name": "ipython",
    "version": 3
   },
   "file_extension": ".py",
   "mimetype": "text/x-python",
   "name": "python",
   "nbconvert_exporter": "python",
   "pygments_lexer": "ipython3",
   "version": "3.6.1"
  }
 },
 "nbformat": 4,
 "nbformat_minor": 2
}
