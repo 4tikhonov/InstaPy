{
 "cells": [
  {
   "cell_type": "code",
   "execution_count": 7,
   "metadata": {
    "scrolled": false
   },
   "outputs": [
    {
     "name": "stderr",
     "output_type": "stream",
     "text": [
      "INFO [2018-11-05 13:06:51] [None]  Session started - 2018-11-05 13:06:51\n",
      "INFO [2018-11-05 13:07:23] [None]  Logged in successfully!\n"
     ]
    },
    {
     "data": {
      "text/plain": [
       "<instapy.instapy.InstaPy at 0x7f26c7da2b00>"
      ]
     },
     "execution_count": 7,
     "metadata": {},
     "output_type": "execute_result"
    }
   ],
   "source": [
    "import json\n",
    "from instapy import InstaPy\n",
    "from re import findall\n",
    "import math\n",
    "from selenium.common.exceptions import NoSuchElementException\n",
    "from selenium.webdriver.common.keys import Keys\n",
    "from time import sleep\n",
    "import json\n",
    "\n",
    "insta_username = 'art_didus'\n",
    "insta_password = 'veyron1111'\n",
    "\n",
    "\n",
    "session = InstaPy(username=insta_username, password=insta_password, nogui=False)\n",
    "session.login()\n"
   ]
  },
  {
   "cell_type": "code",
   "execution_count": null,
   "metadata": {
    "collapsed": true,
    "scrolled": true
   },
   "outputs": [],
   "source": [
    "limit_amount = 120\n",
    "data = session.accounts_to_json(usernames[:1],limit_amount)\n",
    "print(data)\n",
    "#session.feeds_to_json(limit_amount = 15)\n",
    "#session.export(data)"
   ]
  },
  {
   "cell_type": "code",
   "execution_count": null,
   "metadata": {
    "collapsed": true
   },
   "outputs": [],
   "source": [
    "from instapy import config\n",
    "config.mainindex"
   ]
  },
  {
   "cell_type": "code",
   "execution_count": 3,
   "metadata": {},
   "outputs": [
    {
     "data": {
      "text/plain": [
       "['http://instagram.com/timatiofficial',\n",
       " 'http://instagram.com/_agentgirl_',\n",
       " 'http://instagram.com/missalena.92',\n",
       " 'http://instagram.com/egorkreed',\n",
       " 'http://instagram.com/xenia_sobchak',\n",
       " 'http://instagram.com/goar_avetisyan',\n",
       " 'http://instagram.com/mmott23',\n",
       " 'http://instagram.com/garikkharlamov',\n",
       " 'http://instagram.com/just.baby',\n",
       " 'http://instagram.com/rudovanata']"
      ]
     },
     "execution_count": 3,
     "metadata": {},
     "output_type": "execute_result"
    }
   ],
   "source": [
    "usernames =[]\n",
    "with open('insta.csv','r') as file:\n",
    "    temp = file.readlines()\n",
    "    for user in temp:\n",
    "        usernames.append(user.replace(\"\\n\",\"\"))\n",
    "usernames[:10]"
   ]
  },
  {
   "cell_type": "code",
   "execution_count": 8,
   "metadata": {},
   "outputs": [
    {
     "name": "stderr",
     "output_type": "stream",
     "text": [
      "INFO [2018-11-05 13:07:42] [None]  Waiting 10 sec\n",
      "INFO [2018-11-05 13:07:42] [None]  Extracting information from http://instagram.com/timatiofficial\n"
     ]
    },
    {
     "name": "stdout",
     "output_type": "stream",
     "text": [
      "None\n",
      "\n",
      "Error: Couldn't get user profile.\n",
      "http://instagram.com/timatiofficialwas skipped because couldn`t get user profile\n",
      "\n"
     ]
    }
   ],
   "source": [
    "session.accounts_to_json(usernames[:1])"
   ]
  },
  {
   "cell_type": "code",
   "execution_count": 5,
   "metadata": {},
   "outputs": [],
   "source": [
    "br = session.get_browser()"
   ]
  },
  {
   "cell_type": "code",
   "execution_count": 9,
   "metadata": {},
   "outputs": [],
   "source": [
    "from instapy import InstaPy\n",
    "import os\n",
    "import sys\n",
    "from daemonize import Daemonize\n",
    "\n",
    "insta_username = 'zeusfsx'\n",
    "insta_password = 'instagrambot'"
   ]
  },
  {
   "cell_type": "code",
   "execution_count": 10,
   "metadata": {},
   "outputs": [],
   "source": [
    "usernames = []"
   ]
  },
  {
   "cell_type": "code",
   "execution_count": 12,
   "metadata": {},
   "outputs": [],
   "source": [
    "def scrapping():\n",
    "    #Read instagram_accounts from file\n",
    "    with open('insta.csv','r') as file:\n",
    "        temp = file.readlines()\n",
    "        for user in temp:\n",
    "            usernames.append(user.replace(\"\\n\",'').replace('http://instagram.com/', \"\"))\n",
    "\n",
    "    print(usernames[:5])\n",
    "    session = InstaPy(username=insta_username, password=insta_password, nogui=False)\n",
    "    session.login()\n",
    "    # session.follow_by_list(usernames,times = 1,sleep_delay = 4743, interact = False)\n",
    "    session.accounts_to_json(usernames[:1])\n",
    "    #session.feeds_to_json()\n",
    "\n",
    "    # end the bot session\n",
    "    session.end()"
   ]
  },
  {
   "cell_type": "code",
   "execution_count": 13,
   "metadata": {},
   "outputs": [
    {
     "name": "stdout",
     "output_type": "stream",
     "text": [
      "['timatiofficial', '_agentgirl_', 'missalena.92', 'egorkreed', 'xenia_sobchak']\n"
     ]
    },
    {
     "name": "stderr",
     "output_type": "stream",
     "text": [
      "INFO [2018-11-05 13:09:24] [None]  Session started - 2018-11-05 13:09:24\n",
      "INFO [2018-11-05 13:09:54] [None]  Logged in successfully!\n",
      "INFO [2018-11-05 13:09:56] [None]  Waiting 10 sec\n",
      "INFO [2018-11-05 13:09:56] [None]  Extracting information from timatiofficial\n"
     ]
    },
    {
     "name": "stdout",
     "output_type": "stream",
     "text": [
      "{'activity_counts': {'comment_likes': 0, 'comments': 0, 'likes': 0, 'relationships': 0, 'usertags': 0}, 'bundle_variant': 'base', 'config': {'csrf_token': 'E8WMAuIbbH5qL2LeuCCoefRjPMH5IaXn', 'viewer': {'allow_contacts_sync': True, 'badge_count': '{\"seq_id\": 10, \"badge_count\": 0, \"badge_count_at_ms\": 1541416196721}', 'biography': '', 'external_url': None, 'full_name': 'Олександр', 'has_phone_number': True, 'has_profile_pic': True, 'id': '7754985374', 'is_joined_recently': False, 'is_private': False, 'profile_pic_url': 'https://instagram.fdnk1-2.fna.fbcdn.net/vp/4fe882c8d0b0082295d86dbda46b5931/5C76323E/t51.2885-19/s150x150/31571522_620583114958775_2622387849890103296_n.jpg', 'profile_pic_url_hd': 'https://instagram.fdnk1-2.fna.fbcdn.net/vp/2b3195f0cb454c83ff754be943d81bb7/5C83A4CE/t51.2885-19/s320x320/31571522_620583114958775_2622387849890103296_n.jpg', 'username': 'zeusfsx'}, 'viewerId': '7754985374'}, 'country_code': 'UA', 'deployment_stage': 'c2', 'entry_data': {'ProfilePage': [{'felix_onboarding_video_resources': {'mp4': '/static/videos/felix-onboarding/onboardingVideo.mp4/9d16838ca7f9.mp4', 'poster': '/static/images/felix-onboarding/onboardingVideoPoster.png/8fdba7cf2120.png'}, 'graphql': {'user': {'biography': '13', 'blocked_by_viewer': False, 'business_address_json': None, 'business_category_name': None, 'business_email': None, 'business_phone_number': None, 'connected_fb_page': None, 'country_block': False, 'edge_felix_video_timeline': {'count': 0, 'edges': [], 'page_info': {'end_cursor': None, 'has_next_page': False}}, 'edge_follow': {'count': 225}, 'edge_followed_by': {'count': 13004847}, 'edge_media_collections': {'count': 0, 'edges': [], 'page_info': {'end_cursor': None, 'has_next_page': False}}, 'edge_mutual_followed_by': {'count': 9, 'edges': [{'node': {'username': 'chistyakova_ionova'}}, {'node': {'username': 'mmott23'}}, {'node': {'username': 'sashachistova'}}]}, 'edge_owner_to_timeline_media': {'count': 3667, 'edges': [{'node': {'__typename': 'GraphImage', 'accessibility_caption': None, 'comments_disabled': False, 'dimensions': {'height': 1339, 'width': 1080}, 'display_url': 'https://instagram.fdnk1-2.fna.fbcdn.net/vp/8305fe9d041da3faf88c51701ba20080/5C66E4D2/t51.2885-15/e35/43914399_265493334157124_5574756379274510336_n.jpg', 'edge_liked_by': {'count': 458839}, 'edge_media_preview_like': {'count': 458839}, 'edge_media_to_caption': {'edges': [{'node': {'text': '5:30am 🌊'}}]}, 'edge_media_to_comment': {'count': 2885}, 'gating_info': None, 'id': '1902929609117627206', 'is_video': False, 'media_preview': 'ACEqpmFyvmYIA7jv7/n3p8Vs8zhBnYBkE8Ajv+daMamWDYThBvz6kgtgewHX8hVeaYKI0hbYygdM9wOvGOv1pbATC2jgdV3ncSOP8D2rRKZGTjFYBuHeQO4yy9ux9foD7cZqU3TmQk/cOeM8Z9B3/wA9hRcLGtiH2orG8l/f9aKLsLF2GTCmMbsEtkgcAH1Pr7VJDOVgVjncoA29ORx3HenRRNETyCGOenQ/nUjrvBU9/wDINTzFWMeSZpZlCLhXO3joxHXJ6cfzGRV17BD0O045xz+We1V8eWcLjMZ478j/AD+taSSb1DDjP+SKJeQIr/Zvc/mf8aKs7x6iiouyrIC1ITSjp+VJSGV/IBPPcsSPdiOT7jGBToovKBw2QTnBFS9jSD7w96dxCbl9/wBf8KKfgUUAf//Z', 'owner': {'id': '189003872', 'username': 'timatiofficial'}, 'shortcode': 'BpokGW4B3NG', 'taken_at_timestamp': 1541066908, 'thumbnail_resources': [{'config_height': 150, 'config_width': 150, 'src': 'https://instagram.fdnk1-2.fna.fbcdn.net/vp/22344b85c01b84bf5f80f93a7bc54712/5C790139/t51.2885-15/e35/c0.129.1080.1080/s150x150/43914399_265493334157124_5574756379274510336_n.jpg'}, {'config_height': 240, 'config_width': 240, 'src': 'https://instagram.fdnk1-2.fna.fbcdn.net/vp/d30a2f3ec2e9b8dce9e5e5e7a1ffa6c6/5C72CA73/t51.2885-15/e35/c0.129.1080.1080/s240x240/43914399_265493334157124_5574756379274510336_n.jpg'}, {'config_height': 320, 'config_width': 320, 'src': 'https://instagram.fdnk1-2.fna.fbcdn.net/vp/a29d2d25e301eb25b18f0b4b760621e4/5C8882C9/t51.2885-15/e35/c0.129.1080.1080/s320x320/43914399_265493334157124_5574756379274510336_n.jpg'}, {'config_height': 480, 'config_width': 480, 'src': 'https://instagram.fdnk1-2.fna.fbcdn.net/vp/5fc36f1ad098cbe46c26a466c26877c7/5C74D193/t51.2885-15/e35/c0.129.1080.1080/s480x480/43914399_265493334157124_5574756379274510336_n.jpg'}, {'config_height': 640, 'config_width': 640, 'src': 'https://instagram.fdnk1-2.fna.fbcdn.net/vp/232a809e93dd24207874c63bb7559ec0/5C877D22/t51.2885-15/sh0.08/e35/c0.129.1080.1080/s640x640/43914399_265493334157124_5574756379274510336_n.jpg'}], 'thumbnail_src': 'https://instagram.fdnk1-2.fna.fbcdn.net/vp/232a809e93dd24207874c63bb7559ec0/5C877D22/t51.2885-15/sh0.08/e35/c0.129.1080.1080/s640x640/43914399_265493334157124_5574756379274510336_n.jpg'}}, {'node': {'__typename': 'GraphImage', 'accessibility_caption': None, 'comments_disabled': False, 'dimensions': {'height': 1350, 'width': 1080}, 'display_url': 'https://instagram.fdnk1-2.fna.fbcdn.net/vp/97a50d32d1ec833f1bb928975c715353/5C6A421E/t51.2885-15/e35/43914289_362904701118277_7335164440548999168_n.jpg', 'edge_liked_by': {'count': 261633}, 'edge_media_preview_like': {'count': 261633}, 'edge_media_to_caption': {'edges': [{'node': {'text': 'Купил ковёр в ИКЕА. Все необходимое взял, полечу с птицами на Юг )'}}]}, 'edge_media_to_comment': {'count': 1809}, 'gating_info': None, 'id': '1901093215126610637', 'is_video': False, 'media_preview': 'ACEqjumZFVckFiSSD2GKas7nAySfrTbpyZuOdgAGeevPT8abbsFfLduf5/h/SpT0Ke5KLgk4JOPqaV0UjLDtn+X/AOqmyYZiy9evb0744yKXcWXnnj+n/wBamIZhP7q0UzFFTcdh33pmJ9f6VIi/v+Ow9M+vao4nIkY4Byx6jPf+tKkm2Uk9AORnHrxnqPbFSt/kUxLgmPO3gkj268nHPf0NLA+/5TkYPAJz19/5DpUM025t/IOVKcjAIPfjnj/69SrOZnMrcMdvA6AD+tUySz5QoqXZRWFzWxDAiLHufu2Rk44IAz75xUaQB1kmDBtgB49D29uBmpMbp8HnCjGfrUt18isF4BU5A4zw3X1q09fUl7ehUkgMBSTOCwDjGOPz9OKaWeT75JIBwePXOOMcf41bvwN6e0Y/mapMoyOBVtk2L/nD2oqnRWVjQ//Z', 'owner': {'id': '189003872', 'username': 'timatiofficial'}, 'shortcode': 'BpiCjTshuLN', 'taken_at_timestamp': 1540847993, 'thumbnail_resources': [{'config_height': 150, 'config_width': 150, 'src': 'https://instagram.fdnk1-2.fna.fbcdn.net/vp/32b22fe788d821adbdd78dbc3c14d43a/5C8A7246/t51.2885-15/e35/c0.135.1080.1080/s150x150/43914289_362904701118277_7335164440548999168_n.jpg'}, {'config_height': 240, 'config_width': 240, 'src': 'https://instagram.fdnk1-2.fna.fbcdn.net/vp/f6554b3aa0a1b1dc103edbfe14ca11b0/5C6FB20C/t51.2885-15/e35/c0.135.1080.1080/s240x240/43914289_362904701118277_7335164440548999168_n.jpg'}, {'config_height': 320, 'config_width': 320, 'src': 'https://instagram.fdnk1-2.fna.fbcdn.net/vp/55515d6f060d04b95c333ec338e26799/5C70DCB6/t51.2885-15/e35/c0.135.1080.1080/s320x320/43914289_362904701118277_7335164440548999168_n.jpg'}, {'config_height': 480, 'config_width': 480, 'src': 'https://instagram.fdnk1-2.fna.fbcdn.net/vp/1c909e5c6673e8f5734e6568d897e06d/5C8779EC/t51.2885-15/e35/c0.135.1080.1080/s480x480/43914289_362904701118277_7335164440548999168_n.jpg'}, {'config_height': 640, 'config_width': 640, 'src': 'https://instagram.fdnk1-2.fna.fbcdn.net/vp/4decd09e8f881c58a3004ab563f4a59b/5C7C8D5D/t51.2885-15/sh0.08/e35/c0.135.1080.1080/s640x640/43914289_362904701118277_7335164440548999168_n.jpg'}], 'thumbnail_src': 'https://instagram.fdnk1-2.fna.fbcdn.net/vp/4decd09e8f881c58a3004ab563f4a59b/5C7C8D5D/t51.2885-15/sh0.08/e35/c0.135.1080.1080/s640x640/43914289_362904701118277_7335164440548999168_n.jpg'}}, {'node': {'__typename': 'GraphImage', 'accessibility_caption': None, 'comments_disabled': False, 'dimensions': {'height': 1350, 'width': 1080}, 'display_url': 'https://instagram.fdnk1-2.fna.fbcdn.net/vp/c9ca6ca1785fe7e367464da66a709d75/5C63795D/t51.2885-15/e35/42995305_385840145288284_8121597446645088256_n.jpg', 'edge_liked_by': {'count': 497617}, 'edge_media_preview_like': {'count': 497617}, 'edge_media_to_caption': {'edges': [{'node': {'text': 'Тбилиси ⚡️'}}]}, 'edge_media_to_comment': {'count': 3657}, 'gating_info': None, 'id': '1899401711773156481', 'is_video': False, 'media_preview': 'ACEqcjeWdwOPUrgce6ngitdSknKEN9DWQFdgCwVSeik89M+mAai85EGZMoemAOf0/OrIcbm0Uo2VVXUQVBClgR1Bxn6f1zV+FlkA5BbAJHcfWnzNGXIyPZRVnZRU8wuRnN75FydxxUF0jsokPJU9O+DxnFTom5hnp1P0FROfOzgjGec+vbP1/nVpG7Y+1kVk5+XDN04xznFTJc5LFDtbOQef88457VnwqBvT0wRn/Ptj8aUcnPb6f560WFuan26b+9+gorN49/0oqdBkpXIOOT3znH8wT/L61TwoOfU9OmeeCPx/z3qd+oHbBq1CoZTkZxnGe3Xp6VSEygX2ThmGQ4wfx/w61aTEnGOmMkdhnmqk3+sH0FaNoP3OfU02wLHyegoowKKkR//Z', 'owner': {'id': '189003872', 'username': 'timatiofficial'}, 'shortcode': 'BpcB8scAgSB', 'taken_at_timestamp': 1540646350, 'thumbnail_resources': [{'config_height': 150, 'config_width': 150, 'src': 'https://instagram.fdnk1-2.fna.fbcdn.net/vp/43f65546ed504230bcbc23a761017827/5C749905/t51.2885-15/e35/c0.135.1080.1080/s150x150/42995305_385840145288284_8121597446645088256_n.jpg'}, {'config_height': 240, 'config_width': 240, 'src': 'https://instagram.fdnk1-2.fna.fbcdn.net/vp/d4e99c071f47e8ef10c7baa03d34ea02/5C72644F/t51.2885-15/e35/c0.135.1080.1080/s240x240/42995305_385840145288284_8121597446645088256_n.jpg'}, {'config_height': 320, 'config_width': 320, 'src': 'https://instagram.fdnk1-2.fna.fbcdn.net/vp/50a3205fbca5cea904acd1e43575b665/5C6433F5/t51.2885-15/e35/c0.135.1080.1080/s320x320/42995305_385840145288284_8121597446645088256_n.jpg'}, {'config_height': 480, 'config_width': 480, 'src': 'https://instagram.fdnk1-2.fna.fbcdn.net/vp/4a47334d85dad041257053e0fd27345d/5C883CAF/t51.2885-15/e35/c0.135.1080.1080/s480x480/42995305_385840145288284_8121597446645088256_n.jpg'}, {'config_height': 640, 'config_width': 640, 'src': 'https://instagram.fdnk1-2.fna.fbcdn.net/vp/07c8acd5ff932e4c8e483beb0c6c6998/5C73581E/t51.2885-15/sh0.08/e35/c0.135.1080.1080/s640x640/42995305_385840145288284_8121597446645088256_n.jpg'}], 'thumbnail_src': 'https://instagram.fdnk1-2.fna.fbcdn.net/vp/07c8acd5ff932e4c8e483beb0c6c6998/5C73581E/t51.2885-15/sh0.08/e35/c0.135.1080.1080/s640x640/42995305_385840145288284_8121597446645088256_n.jpg'}}, {'node': {'__typename': 'GraphSidecar', 'accessibility_caption': None, 'comments_disabled': False, 'dimensions': {'height': 1080, 'width': 1080}, 'display_url': 'https://instagram.fdnk1-2.fna.fbcdn.net/vp/e7764d51211173620e4328254d55b59d/5C6C0F50/t51.2885-15/e35/43914260_546579389096901_3376735384405803008_n.jpg', 'edge_liked_by': {'count': 398187}, 'edge_media_preview_like': {'count': 398187}, 'edge_media_to_caption': {'edges': [{'node': {'text': 'В игре с 1997г. Отвечаю за своё, все что имею - заслуженно работой. Жалею лишь о том, что не все с кем начинал, смогли увидеть плоды этой самой работы и разделить с нами успех. В один день мы все снова встретимся. Но пока есть время, надо извлекать из него максимум, ведь моложе мы уже никогда не станем )'}}]}, 'edge_media_to_comment': {'count': 6356}, 'gating_info': None, 'id': '1897491307778071934', 'is_video': False, 'media_preview': None, 'owner': {'id': '189003872', 'username': 'timatiofficial'}, 'shortcode': 'BpVPkqEgN1-', 'taken_at_timestamp': 1540418612, 'thumbnail_resources': [{'config_height': 150, 'config_width': 150, 'src': 'https://instagram.fdnk1-2.fna.fbcdn.net/vp/a3910eac33f002323a30f85ec4643126/5C79CB12/t51.2885-15/e35/s150x150/43914260_546579389096901_3376735384405803008_n.jpg'}, {'config_height': 240, 'config_width': 240, 'src': 'https://instagram.fdnk1-2.fna.fbcdn.net/vp/fc8255a4cf4ecc8eee96e1c422cd91f5/5C812C58/t51.2885-15/e35/s240x240/43914260_546579389096901_3376735384405803008_n.jpg'}, {'config_height': 320, 'config_width': 320, 'src': 'https://instagram.fdnk1-2.fna.fbcdn.net/vp/7cd770e38cdf1f3229d503ab743fb867/5C808CE2/t51.2885-15/e35/s320x320/43914260_546579389096901_3376735384405803008_n.jpg'}, {'config_height': 480, 'config_width': 480, 'src': 'https://instagram.fdnk1-2.fna.fbcdn.net/vp/c2327ef40598c2edba3e559eb8bbedd0/5C8A0CB8/t51.2885-15/e35/s480x480/43914260_546579389096901_3376735384405803008_n.jpg'}, {'config_height': 640, 'config_width': 640, 'src': 'https://instagram.fdnk1-2.fna.fbcdn.net/vp/d2c7e6359f72dc14d5760919859a6d19/5C8262B5/t51.2885-15/sh0.08/e35/s640x640/43914260_546579389096901_3376735384405803008_n.jpg'}], 'thumbnail_src': 'https://instagram.fdnk1-2.fna.fbcdn.net/vp/d2c7e6359f72dc14d5760919859a6d19/5C8262B5/t51.2885-15/sh0.08/e35/s640x640/43914260_546579389096901_3376735384405803008_n.jpg'}}, {'node': {'__typename': 'GraphImage', 'accessibility_caption': None, 'comments_disabled': False, 'dimensions': {'height': 1350, 'width': 1080}, 'display_url': 'https://instagram.fdnk1-2.fna.fbcdn.net/vp/ce9105cb3d41b0cea0eb2a02ec080d8f/5C894513/t51.2885-15/e35/43595908_539223629855480_8884927862310699008_n.jpg', 'edge_liked_by': {'count': 465962}, 'edge_media_preview_like': {'count': 465962}, 'edge_media_to_caption': {'edges': [{'node': {'text': '@drxromanelli x @guess 🐻🖤'}}]}, 'edge_media_to_comment': {'count': 2927}, 'gating_info': None, 'id': '1895725356518788037', 'is_video': False, 'media_preview': 'ACEqkQSABWOBjcGCA49lyME+ue1KLgvKsIklJbjJ2rg4z0C5x754qe4mMUSqvUMcjvgZGR+NUkulG4y8EKAMffJzxz6Dvk+1JIlvWxcSBJ2KCZmYdtzdPY5GfwqfzRENgI+XjJGTx69ay/tWAAQXXoIsrnIGMdNw/vD1+lTpcBlBJUZH3SASPY8dRUP3l2Ndn3LX2r3X8qKq/aF/vL/3yP8ACio5X3/r7x38iGRg7M+CQOMe+CT+eahlIlOQNuSTj/dA5/OtH7wAbnOCc/7uP5ismVC2XPy4Un6/WuhPQwtqLAfMbzJNuWGMAD+WOtTShpfmUA+2fTvyf8mqkW7y/kxkdc1qRW3lkNnK45GOp7H8Khq2ppe+hn+RJ/d/X/69FaexPSipuMvRAFtpG4Feh56E1iai6iWSMDn5QMdMYBIxW3b/AHAe+SM/lWJrAxPnuUH8zVR2uJ7lGFxtCE4LMB+B4z+Ga6bZgYx04/KuTT7y/wC8v8xXWyn+dKb2HFFfA9KKfmisrlWP/9k=', 'owner': {'id': '189003872', 'username': 'timatiofficial'}, 'shortcode': 'BpO-CrzAMvF', 'taken_at_timestamp': 1540208094, 'thumbnail_resources': [{'config_height': 150, 'config_width': 150, 'src': 'https://instagram.fdnk1-2.fna.fbcdn.net/vp/d32aa7626a0d7514cb85185ea7ba3418/5C690D4B/t51.2885-15/e35/c0.135.1080.1080/s150x150/43595908_539223629855480_8884927862310699008_n.jpg'}, {'config_height': 240, 'config_width': 240, 'src': 'https://instagram.fdnk1-2.fna.fbcdn.net/vp/818ef71426cc3bb8368b5a3fe62abce2/5C7E1701/t51.2885-15/e35/c0.135.1080.1080/s240x240/43595908_539223629855480_8884927862310699008_n.jpg'}, {'config_height': 320, 'config_width': 320, 'src': 'https://instagram.fdnk1-2.fna.fbcdn.net/vp/de0486e0059da3651e956e410e06ce52/5C70EDBB/t51.2885-15/e35/c0.135.1080.1080/s320x320/43595908_539223629855480_8884927862310699008_n.jpg'}, {'config_height': 480, 'config_width': 480, 'src': 'https://instagram.fdnk1-2.fna.fbcdn.net/vp/2137671ebb9f6f10d9adcb318bc8d8bd/5C7950E1/t51.2885-15/e35/c0.135.1080.1080/s480x480/43595908_539223629855480_8884927862310699008_n.jpg'}, {'config_height': 640, 'config_width': 640, 'src': 'https://instagram.fdnk1-2.fna.fbcdn.net/vp/f51981fd07d54aab3d71f79ddbdd6b2a/5C7FEC50/t51.2885-15/sh0.08/e35/c0.135.1080.1080/s640x640/43595908_539223629855480_8884927862310699008_n.jpg'}], 'thumbnail_src': 'https://instagram.fdnk1-2.fna.fbcdn.net/vp/f51981fd07d54aab3d71f79ddbdd6b2a/5C7FEC50/t51.2885-15/sh0.08/e35/c0.135.1080.1080/s640x640/43595908_539223629855480_8884927862310699008_n.jpg'}}, {'node': {'__typename': 'GraphVideo', 'comments_disabled': False, 'dimensions': {'height': 750, 'width': 750}, 'display_url': 'https://instagram.fdnk1-2.fna.fbcdn.net/vp/ab4a28f4d0cc2954546089bb062ef8de/5BE2BD2D/t51.2885-15/e15/43700554_115527029327086_7569449482002104320_n.jpg', 'edge_liked_by': {'count': 159388}, 'edge_media_preview_like': {'count': 159388}, 'edge_media_to_caption': {'edges': [{'node': {'text': 'Это не простая задача, собрать лучший коллектив в стране !!! В России очень много достойных мастеров, но все работают в основном по отдельности. В @13byblackstar крутой КОЛЛЕКТИВ !!! Именно поэтому многие именитые мастера, возвращаются к нам в ходе гастролей. Атмосфера и правильные люди решают. Заходи, записывайся на консультацию и проверяй) @13byblackstar ⚡️'}}]}, 'edge_media_to_comment': {'count': 1919}, 'gating_info': None, 'id': '1894319856975669666', 'is_video': True, 'media_preview': 'ACoqglUeYc9manu0YUAAAhjnj61BdElsDqzfhzQqnkZzsfnn1/z1oEaRs0O1enUnHfpn6U428T7lX7wwD149KbeJvCgHBGT9eOgxRbS4UKVbHZsdf60xFOFBuPsf15phRT1/kKrtvLEoSCCeOvP+fwqLYx5yaQDCWK7ic4bGD7jOf0rQtoyUVQqsshbLE4K468d8DmssvhduP4sk/QY/r1qaOaSNNoJ2v1Hrnjj0plGs6KxQPngFeucgDg8dznJ/KqtuxZcPyqkgdcDH/wBf9KrPcszgnOV4HTt1FMWfYxbG7IGc/wBMev0oETSPtcheAQCQPU/1quJ27dKZI+9i2MZyTzn/ADgVZWFSAQDg+9ADxZF2IJwDzn/PerDWfTb2I4J7dOvt+tXRS0AUxYKDknPX9f5UySxBA28fWtCkFAGYlk2NzYA+YYPXnjP/AOurCW0iqAeoAB+tXKfuPqaBn//Z', 'owner': {'id': '189003872', 'username': 'timatiofficial'}, 'shortcode': 'BpJ-d-WAOmi', 'taken_at_timestamp': 1540040978, 'thumbnail_resources': [{'config_height': 150, 'config_width': 150, 'src': 'https://instagram.fdnk1-2.fna.fbcdn.net/vp/75c871820cc2482d511453a84f1ae927/5BE2650C/t51.2885-15/e15/s150x150/43700554_115527029327086_7569449482002104320_n.jpg'}, {'config_height': 240, 'config_width': 240, 'src': 'https://instagram.fdnk1-2.fna.fbcdn.net/vp/5569b8d0bfa5c3fef53f2201ed5d95d4/5BE25746/t51.2885-15/e15/s240x240/43700554_115527029327086_7569449482002104320_n.jpg'}, {'config_height': 320, 'config_width': 320, 'src': 'https://instagram.fdnk1-2.fna.fbcdn.net/vp/fe2663d0765c9ab0b944e548eae1659e/5BE2CF7C/t51.2885-15/e15/s320x320/43700554_115527029327086_7569449482002104320_n.jpg'}, {'config_height': 480, 'config_width': 480, 'src': 'https://instagram.fdnk1-2.fna.fbcdn.net/vp/48c4c8e2675bc97b0e84a5584a7c0f7a/5BE2A366/t51.2885-15/e15/s480x480/43700554_115527029327086_7569449482002104320_n.jpg'}, {'config_height': 640, 'config_width': 640, 'src': 'https://instagram.fdnk1-2.fna.fbcdn.net/vp/c13c6b7f078b8069b8840c642bbbc991/5BE29553/t51.2885-15/e15/s640x640/43700554_115527029327086_7569449482002104320_n.jpg'}], 'thumbnail_src': 'https://instagram.fdnk1-2.fna.fbcdn.net/vp/c13c6b7f078b8069b8840c642bbbc991/5BE29553/t51.2885-15/e15/s640x640/43700554_115527029327086_7569449482002104320_n.jpg', 'video_view_count': 1473652}}, {'node': {'__typename': 'GraphImage', 'accessibility_caption': None, 'comments_disabled': False, 'dimensions': {'height': 750, 'width': 750}, 'display_url': 'https://instagram.fdnk1-2.fna.fbcdn.net/vp/a205f213c73be2337e4e5a376847cfb4/5C70E920/t51.2885-15/e35/42975975_739964426340847_4295677640641085440_n.jpg', 'edge_liked_by': {'count': 699362}, 'edge_media_preview_like': {'count': 699362}, 'edge_media_to_caption': {'edges': [{'node': {'text': '🤗😆'}}]}, 'edge_media_to_comment': {'count': 2722}, 'gating_info': None, 'id': '1893562408941691424', 'is_video': False, 'media_preview': 'ACoquKOR9ab5y5I54744qYLyPr/jWf5MsLc5ZAeo9Kbk0lYhQUpO5eYcZ6/lVENLwzFCpPQdfw9SKWS/QLsjG9zx7fXPf8qha4wgkO0gnkAcjkZ79amTbsVCCV7/ACEu1YvgY49eM5Aqn5Df5P8A9atFpEmYlDnPbv8AlTdtKxVyS6vwh2RYZs9ewPt6n9K0JHZE+Xggd6x1SKMqzDc2c+vPbjPQVozM0ilVyM8Z470mUkZoltnPnFW39So4BPqT298daoTTNK5Y4HoB0HsB/M9a0Vs4mGPmz65/+tj8Ky5F2MVPUHFNCYKWJ+XPHpU32iX+9/KrNoBHG0n8TAgZ9MH+uTVYWbkZyOae4noOdfnAAJ3DgD1/z1rVto5o4z5qlcHjOOnpVaNR5sfA5OPwPWt69/1f40mCMyWYKdxwBjJ9ePQViXEokkLDB9Pcf5/wrSlAyfp/SqCoPQflSRTFjIlYg5wOQPfpU/2jHGaSFQN3A6VBsX0H5VZB/9k=', 'owner': {'id': '189003872', 'username': 'timatiofficial'}, 'shortcode': 'BpHSPp5AKIg', 'taken_at_timestamp': 1539950251, 'thumbnail_resources': [{'config_height': 150, 'config_width': 150, 'src': 'https://instagram.fdnk1-2.fna.fbcdn.net/vp/f00e593670c517f34adf5eaa4e7f59b6/5C792962/t51.2885-15/e35/s150x150/42975975_739964426340847_4295677640641085440_n.jpg'}, {'config_height': 240, 'config_width': 240, 'src': 'https://instagram.fdnk1-2.fna.fbcdn.net/vp/97dee01c791c0272290d3ca0889cb880/5C815F28/t51.2885-15/e35/s240x240/42975975_739964426340847_4295677640641085440_n.jpg'}, {'config_height': 320, 'config_width': 320, 'src': 'https://instagram.fdnk1-2.fna.fbcdn.net/vp/0f13e5c2153d530e1d75c2b8ac25cd82/5C81E692/t51.2885-15/e35/s320x320/42975975_739964426340847_4295677640641085440_n.jpg'}, {'config_height': 480, 'config_width': 480, 'src': 'https://instagram.fdnk1-2.fna.fbcdn.net/vp/f7a4c2835331ad2bf89e3db4cedae4c6/5C6965C8/t51.2885-15/e35/s480x480/42975975_739964426340847_4295677640641085440_n.jpg'}, {'config_height': 640, 'config_width': 640, 'src': 'https://instagram.fdnk1-2.fna.fbcdn.net/vp/595f3c02973ba5cb3eb385581bb9f094/5C6E7DC5/t51.2885-15/sh0.08/e35/s640x640/42975975_739964426340847_4295677640641085440_n.jpg'}], 'thumbnail_src': 'https://instagram.fdnk1-2.fna.fbcdn.net/vp/595f3c02973ba5cb3eb385581bb9f094/5C6E7DC5/t51.2885-15/sh0.08/e35/s640x640/42975975_739964426340847_4295677640641085440_n.jpg'}}, {'node': {'__typename': 'GraphImage', 'accessibility_caption': None, 'comments_disabled': False, 'dimensions': {'height': 1080, 'width': 1080}, 'display_url': 'https://instagram.fdnk1-2.fna.fbcdn.net/vp/f3465ea83f6a6b5f5a9b3a4db886806d/5C84D543/t51.2885-15/e35/43093046_317855332102136_2558511777709031424_n.jpg', 'edge_liked_by': {'count': 89187}, 'edge_media_preview_like': {'count': 89187}, 'edge_media_to_caption': {'edges': [{'node': {'text': '#Repost @blackstarofficial\\n・・・\\nПриносим свои соболезнования семьям жертв и пострадавших в Керчи. В связи с ужасной трагедией мы переносим перечисленные ниже концерты: ⠀\\n👇🏿👇🏿👇🏿⠀\\n@mmott23: Москва (Корстон), 19.10 ➡️ 16.11⠀\\n----------------------------------\\n@klavacoca: ⠀\\nПермь, 18.10 ➡️ дата уточняется⠀\\nЕкатеринбург, 19.10 ➡️ 25.10⠀\\nСургут, 22.10 ➡️ дата уточняется⠀\\n----------------------------------\\n@danasokolova_official: Казань 19.10 ➡️ 3.11⠀\\n----------------------------------\\n@egorkreed: ⠀\\nСтаврополь, 18.10 ➡️ 27.02.19 ⠀\\nАрхангельск, 19.10 ➡️ 22.02.19 ⠀\\n----------------------------------\\n@l_one_mars: ⠀\\nСаратов, 18.10 ➡️ дата уточняется⠀\\n----------------------------------⠀ ⠀ \\nСпасибо за понимание и до встречи на концертах наших артистов!⠀'}}]}, 'edge_media_to_comment': {'count': 1082}, 'gating_info': None, 'id': '1892910151241906333', 'is_video': False, 'media_preview': 'ACoq5miip7ZQ0ig9M0AC20jDIU4qEgg4NSO7O25uv8vYemKlnO5EdvvEHJ9cHANAFWiiigBVUsQo5JOAPc1Y+yzowGxg2CwGOw6mkhgLjKuqtngFsHjvnp9Oc1YKTD/lqP8Av7/9egB7ROfmkiJJIGQSAWPGDg9Se3B9aimt7hzkoRjsOwGO3tkfnRslY4Mi8Y6yf/X7Y/DilWKYnIkXJ7+YOf19qAKksLwttkBU9cGo6tNAzAsXRsA/xjPrgZ6/41VoAKKKKACpxazHoj88j5Tz+lQV3kSKfLOBnZ1wM8qtAHGfY5/+eb/98t/hSfY5/wDnm/8A3y3+Fd7tHoPyqUdKAP/Z', 'owner': {'id': '189003872', 'username': 'timatiofficial'}, 'shortcode': 'BpE98DkgTid', 'taken_at_timestamp': 1539872496, 'thumbnail_resources': [{'config_height': 150, 'config_width': 150, 'src': 'https://instagram.fdnk1-2.fna.fbcdn.net/vp/d758d4df3c6b49dc2799bb372b6f1485/5C8A9401/t51.2885-15/e35/s150x150/43093046_317855332102136_2558511777709031424_n.jpg'}, {'config_height': 240, 'config_width': 240, 'src': 'https://instagram.fdnk1-2.fna.fbcdn.net/vp/f7e1d642aea394ba19b17c0ab59bd412/5C6BB74B/t51.2885-15/e35/s240x240/43093046_317855332102136_2558511777709031424_n.jpg'}, {'config_height': 320, 'config_width': 320, 'src': 'https://instagram.fdnk1-2.fna.fbcdn.net/vp/d1fddfa04feb1ce5a281ce5b0f1be4f1/5C77BFF1/t51.2885-15/e35/s320x320/43093046_317855332102136_2558511777709031424_n.jpg'}, {'config_height': 480, 'config_width': 480, 'src': 'https://instagram.fdnk1-2.fna.fbcdn.net/vp/099827f03cbd6c3162f209c4a3c78d92/5C76EFAB/t51.2885-15/e35/s480x480/43093046_317855332102136_2558511777709031424_n.jpg'}, {'config_height': 640, 'config_width': 640, 'src': 'https://instagram.fdnk1-2.fna.fbcdn.net/vp/d6ce4698afc643adb2d3596eba3df1b4/5C679FA6/t51.2885-15/sh0.08/e35/s640x640/43093046_317855332102136_2558511777709031424_n.jpg'}], 'thumbnail_src': 'https://instagram.fdnk1-2.fna.fbcdn.net/vp/d6ce4698afc643adb2d3596eba3df1b4/5C679FA6/t51.2885-15/sh0.08/e35/s640x640/43093046_317855332102136_2558511777709031424_n.jpg'}}, {'node': {'__typename': 'GraphImage', 'accessibility_caption': None, 'comments_disabled': False, 'dimensions': {'height': 1080, 'width': 1080}, 'display_url': 'https://instagram.fdnk1-2.fna.fbcdn.net/vp/d3a349020b6a240addcd0b8e3dc84889/5C694F05/t51.2885-15/e35/42422013_621767701553332_3257085356545146880_n.jpg', 'edge_liked_by': {'count': 270695}, 'edge_media_preview_like': {'count': 270695}, 'edge_media_to_caption': {'edges': []}, 'edge_media_to_comment': {'count': 2178}, 'gating_info': None, 'id': '1892283205000723883', 'is_video': False, 'media_preview': 'ACoq5miiigAoqVE3Bj/dXP6gf1qOgYlFFFAgpRSUUAbMFoEVxuz5ibRgdDkH19sVmTRGJtp5+lKJiO9RMdxzWcVJPV3XobT5be7uNooorQxCrlrdeSrJgHfj5j1XGenHvz6jjvVOigDakv8AduKFFywfkZzjHyjjAGR9ar3V0jp5YVCeCGXI28KCACP9nuT19eazaKACiiigD//Z', 'owner': {'id': '189003872', 'username': 'timatiofficial'}, 'shortcode': 'BpCvYyYgX2r', 'taken_at_timestamp': 1539797758, 'thumbnail_resources': [{'config_height': 150, 'config_width': 150, 'src': 'https://instagram.fdnk1-2.fna.fbcdn.net/vp/c5f844763329ddcc0864230f0d119e0f/5C85CB47/t51.2885-15/e35/s150x150/42422013_621767701553332_3257085356545146880_n.jpg'}, {'config_height': 240, 'config_width': 240, 'src': 'https://instagram.fdnk1-2.fna.fbcdn.net/vp/5a1906a60a5348b70be075f59b40312f/5C79A50D/t51.2885-15/e35/s240x240/42422013_621767701553332_3257085356545146880_n.jpg'}, {'config_height': 320, 'config_width': 320, 'src': 'https://instagram.fdnk1-2.fna.fbcdn.net/vp/716a101c7c2eb2c6581520f9b39122c8/5C7BBCB7/t51.2885-15/e35/s320x320/42422013_621767701553332_3257085356545146880_n.jpg'}, {'config_height': 480, 'config_width': 480, 'src': 'https://instagram.fdnk1-2.fna.fbcdn.net/vp/689b9df89ebba0a940ebd18b73e7a234/5C7053ED/t51.2885-15/e35/s480x480/42422013_621767701553332_3257085356545146880_n.jpg'}, {'config_height': 640, 'config_width': 640, 'src': 'https://instagram.fdnk1-2.fna.fbcdn.net/vp/b5603745f237e894e73746793caaf7cf/5C813BE0/t51.2885-15/sh0.08/e35/s640x640/42422013_621767701553332_3257085356545146880_n.jpg'}], 'thumbnail_src': 'https://instagram.fdnk1-2.fna.fbcdn.net/vp/b5603745f237e894e73746793caaf7cf/5C813BE0/t51.2885-15/sh0.08/e35/s640x640/42422013_621767701553332_3257085356545146880_n.jpg'}}, {'node': {'__typename': 'GraphVideo', 'comments_disabled': False, 'dimensions': {'height': 607, 'width': 1080}, 'display_url': 'https://instagram.fdnk1-2.fna.fbcdn.net/vp/4f4b889e785547567125861c97c50dc5/5BE2C313/t51.2885-15/fr/e15/s1080x1080/42455584_175494250035934_8413976336002973696_n.jpg', 'edge_liked_by': {'count': 308034}, 'edge_media_preview_like': {'count': 308034}, 'edge_media_to_caption': {'edges': [{'node': {'text': 'BLACK STAR x BORK 💸⚡️'}}]}, 'edge_media_to_comment': {'count': 3181}, 'gating_info': None, 'id': '1892132904474037177', 'is_video': True, 'media_preview': 'ACoXqN9nQ4WMg+75/l0/OrsGoRoNrIo9OAf1rJjyHAK/LkZPqO9a6CFcFVHynIByORU3HYtl2Lq4jwuORgd/UetV59UjTjYM9MEf/WqlcX7O2eVYY45HT+fNSbhcEy7QNwwMrkk4+vt/9emBB5kEhzsHJ7kj+VTfZQeREmP+ug/+KrNmjJPAC4yMAY/HHPNIA3+TSA1p7B4lUK+Mk54oi0yTO4kn3JA+uMEmiigB82nyOegPPBJ7ds//AFqieMW0mCCRjOM5HPB4J9aKKVuhVxkaiSU5Bw2cc8D2x/nBqY6c5PD4Hpj/AOtRRTWhLP/Z', 'owner': {'id': '189003872', 'username': 'timatiofficial'}, 'shortcode': 'BpCNNoHAMu5', 'taken_at_timestamp': 1539779893, 'thumbnail_resources': [{'config_height': 150, 'config_width': 150, 'src': 'https://instagram.fdnk1-2.fna.fbcdn.net/vp/06d7d6b547cd57abfa61482c8560b66c/5BE28AC1/t51.2885-15/e15/c236.0.607.607/s150x150/42455584_175494250035934_8413976336002973696_n.jpg'}, {'config_height': 240, 'config_width': 240, 'src': 'https://instagram.fdnk1-2.fna.fbcdn.net/vp/0393db46c791f7c34ef005615dd0b982/5BE22D4B/t51.2885-15/e15/c236.0.607.607/s240x240/42455584_175494250035934_8413976336002973696_n.jpg'}, {'config_height': 320, 'config_width': 320, 'src': 'https://instagram.fdnk1-2.fna.fbcdn.net/vp/1f90fbadc149b5549b734c01bf43bae5/5BE29C71/t51.2885-15/e15/c236.0.607.607/s320x320/42455584_175494250035934_8413976336002973696_n.jpg'}, {'config_height': 480, 'config_width': 480, 'src': 'https://instagram.fdnk1-2.fna.fbcdn.net/vp/1b960cc8b1928b1613bf8d4f02a5e978/5BE26E2B/t51.2885-15/e15/c236.0.607.607/s480x480/42455584_175494250035934_8413976336002973696_n.jpg'}, {'config_height': 640, 'config_width': 640, 'src': 'https://instagram.fdnk1-2.fna.fbcdn.net/vp/46ae0e1e5e5946e10f6343074c511828/5BE27874/t51.2885-15/e15/c236.0.607.607/42455584_175494250035934_8413976336002973696_n.jpg'}], 'thumbnail_src': 'https://instagram.fdnk1-2.fna.fbcdn.net/vp/46ae0e1e5e5946e10f6343074c511828/5BE27874/t51.2885-15/e15/c236.0.607.607/42455584_175494250035934_8413976336002973696_n.jpg', 'video_view_count': 2666010}}, {'node': {'__typename': 'GraphVideo', 'comments_disabled': False, 'dimensions': {'height': 607, 'width': 1080}, 'display_url': 'https://instagram.fdnk1-2.fna.fbcdn.net/vp/e9366e6bf9c60348e3edf24c77726c9f/5BE234F4/t51.2885-15/fr/e15/s1080x1080/43119100_299895973945706_3695664327068483584_n.jpg', 'edge_liked_by': {'count': 108146}, 'edge_media_preview_like': {'count': 108146}, 'edge_media_to_caption': {'edges': [{'node': {'text': 'Если вопросов больше нет, то пристегните ремни. Мы начинаем второй сезон, самого лучшего в стране музыкального шоу. Это @pesninatnt !!! @tnt_online 🚀'}}]}, 'edge_media_to_comment': {'count': 1468}, 'gating_info': None, 'id': '1891388355669771287', 'is_video': True, 'media_preview': 'ACoXoI9WFkrLV6trOnHHSt726XOXkv1sXw4pGcVU89cUGdM9KOZ9n+BPs/Nfj/kOd6r76jkkBPFQb6LlKBHmnBqKKSNx26kLUUUxWGk0lFFSM//Z', 'owner': {'id': '189003872', 'username': 'timatiofficial'}, 'shortcode': 'Bo_j7BAAcQX', 'taken_at_timestamp': 1539691342, 'thumbnail_resources': [{'config_height': 150, 'config_width': 150, 'src': 'https://instagram.fdnk1-2.fna.fbcdn.net/vp/f027ffb2c9f73c1d4c8857fa7bb46e5c/5BE28EA6/t51.2885-15/e15/c236.0.607.607/s150x150/43119100_299895973945706_3695664327068483584_n.jpg'}, {'config_height': 240, 'config_width': 240, 'src': 'https://instagram.fdnk1-2.fna.fbcdn.net/vp/f680e438c5a9361726ebf2e034b996a3/5BE27C6C/t51.2885-15/e15/c236.0.607.607/s240x240/43119100_299895973945706_3695664327068483584_n.jpg'}, {'config_height': 320, 'config_width': 320, 'src': 'https://instagram.fdnk1-2.fna.fbcdn.net/vp/29f301b522f935d5aa5e233b3c981bc8/5BE2C556/t51.2885-15/e15/c236.0.607.607/s320x320/43119100_299895973945706_3695664327068483584_n.jpg'}, {'config_height': 480, 'config_width': 480, 'src': 'https://instagram.fdnk1-2.fna.fbcdn.net/vp/823dbc7408181ef1f95d48fa3ec7d066/5BE2594C/t51.2885-15/e15/c236.0.607.607/s480x480/43119100_299895973945706_3695664327068483584_n.jpg'}, {'config_height': 640, 'config_width': 640, 'src': 'https://instagram.fdnk1-2.fna.fbcdn.net/vp/cc6ffcd5eb7e26573cb5b26c96f4747f/5BE25353/t51.2885-15/e15/c236.0.607.607/43119100_299895973945706_3695664327068483584_n.jpg'}], 'thumbnail_src': 'https://instagram.fdnk1-2.fna.fbcdn.net/vp/cc6ffcd5eb7e26573cb5b26c96f4747f/5BE25353/t51.2885-15/e15/c236.0.607.607/43119100_299895973945706_3695664327068483584_n.jpg', 'video_view_count': 1067662}}, {'node': {'__typename': 'GraphImage', 'accessibility_caption': None, 'comments_disabled': False, 'dimensions': {'height': 1350, 'width': 1080}, 'display_url': 'https://instagram.fdnk1-2.fna.fbcdn.net/vp/7cb0cc712326f567e35865054e761006/5C6DC832/t51.2885-15/e35/42892001_249255992432287_2326844660556759040_n.jpg', 'edge_liked_by': {'count': 322980}, 'edge_media_preview_like': {'count': 322980}, 'edge_media_to_caption': {'edges': [{'node': {'text': 'Art is Life ⚡️'}}]}, 'edge_media_to_comment': {'count': 1597}, 'gating_info': None, 'id': '1890758997401908512', 'is_video': False, 'media_preview': 'ACEqSNN8eB1zxVmJvLDbeir+oqG2YmEEDqfXoPUVZs2V93HHH41hHRfN/mWhbS4805PA5/p/jRKd80n+zx+gqbA3DAxyv/oQqKYgM5/A/mKth1I8CiqXm+9FTYBsRItwOhGffn0//VU0E6hT24Gfqf8ACoEkVI8sQpwSoPfpg+3f60ttbs6kZA6fjn+VFtNf6u7hEuCcIhkHzbOR74/pmq8ku7ee5b+pqxBblXVWwVLYx+BqjIrAMR13E49smmhy3I9xoqLzGoqiDce0ied1bnIVgAcEdj/LP40W9uhBIOSCVwD0A9f51dhRcucDO484qYKASQBzyff61NyyBUCkH06VkSR5yRkZ9K3iKrBFPYdB2pbBuc/5XuaK3vLT0H5CinzCsf/Z', 'owner': {'id': '189003872', 'username': 'timatiofficial'}, 'shortcode': 'Bo9U0pcA7Ug', 'taken_at_timestamp': 1539616058, 'thumbnail_resources': [{'config_height': 150, 'config_width': 150, 'src': 'https://instagram.fdnk1-2.fna.fbcdn.net/vp/444cf8bed67bb381fb7e67dff505af73/5C82116A/t51.2885-15/e35/c0.135.1080.1080/s150x150/42892001_249255992432287_2326844660556759040_n.jpg'}, {'config_height': 240, 'config_width': 240, 'src': 'https://instagram.fdnk1-2.fna.fbcdn.net/vp/2d860a111585f50231595f7ce034cb10/5C780620/t51.2885-15/e35/c0.135.1080.1080/s240x240/42892001_249255992432287_2326844660556759040_n.jpg'}, {'config_height': 320, 'config_width': 320, 'src': 'https://instagram.fdnk1-2.fna.fbcdn.net/vp/c179334d99733bae9a46bba218ac65ee/5C81CC9A/t51.2885-15/e35/c0.135.1080.1080/s320x320/42892001_249255992432287_2326844660556759040_n.jpg'}, {'config_height': 480, 'config_width': 480, 'src': 'https://instagram.fdnk1-2.fna.fbcdn.net/vp/120e65d26d176bc4b852f911db182bd8/5C819AC0/t51.2885-15/e35/c0.135.1080.1080/s480x480/42892001_249255992432287_2326844660556759040_n.jpg'}, {'config_height': 640, 'config_width': 640, 'src': 'https://instagram.fdnk1-2.fna.fbcdn.net/vp/1ca2c3180b9c2c318afa4bad726bd500/5C696471/t51.2885-15/sh0.08/e35/c0.135.1080.1080/s640x640/42892001_249255992432287_2326844660556759040_n.jpg'}], 'thumbnail_src': 'https://instagram.fdnk1-2.fna.fbcdn.net/vp/1ca2c3180b9c2c318afa4bad726bd500/5C696471/t51.2885-15/sh0.08/e35/c0.135.1080.1080/s640x640/42892001_249255992432287_2326844660556759040_n.jpg'}}], 'page_info': {'end_cursor': 'QVFCamxVbUNoRTZzTTZmcDUyX2NZMXNWWFRxcmJJVncxN2RCQ2VLbmNXV19GMEFfdjdPTnF0SHBFRm1VZndkNTRWRWVmSmlmQ1dMU1V6bVBMUmFNdE9Leg==', 'has_next_page': True}}, 'edge_saved_media': {'count': 0, 'edges': [], 'page_info': {'end_cursor': None, 'has_next_page': False}}, 'external_url': 'https://youtu.be/4ufRh9zEXvw', 'external_url_linkshimmed': 'https://l.instagram.com/?u=https%3A%2F%2Fyoutu.be%2F4ufRh9zEXvw&e=ATPy_PjWgfLuaJz8QrAMOuEyvFsHL8mv2Oqtv1T2QIsCO_ey1cfILasPwvWZIJEWDv5imw-cXpeIufvL', 'followed_by_viewer': True, 'follows_viewer': False, 'full_name': 'Black Star', 'has_blocked_viewer': False, 'has_channel': False, 'has_requested_viewer': False, 'highlight_reel_count': 0, 'id': '189003872', 'is_business_account': False, 'is_joined_recently': False, 'is_private': False, 'is_verified': True, 'profile_pic_url': 'https://instagram.fdnk1-2.fna.fbcdn.net/vp/c6b6387c330294dead1903e9427895e4/5C7F64AB/t51.2885-19/s150x150/14677339_347428575600845_1975596814841151488_a.jpg', 'profile_pic_url_hd': 'https://instagram.fdnk1-2.fna.fbcdn.net/vp/16ed54d1c56a6f46352d8f82b553328a/5C81DF5B/t51.2885-19/s320x320/14677339_347428575600845_1975596814841151488_a.jpg', 'requested_by_viewer': False, 'username': 'timatiofficial'}}, 'logging_page_id': 'profilePage_189003872', 'show_suggested_profiles': True}]}, 'gatekeepers': {'2fac': True, 'ld': True, 'nt': True, 'phone_qp': True, 'rp': True, 'saa': True, 'seo': True, 'seoht': True, 'sf': True, 'vl': True}, 'hostname': 'www.instagram.com', 'knobs': {'acct:ntb': 0, 'captcha': 0, 'cb': 0, 'fr': 0}, 'language_code': 'en', 'locale': 'en_US', 'mid_pct': 89.85022, 'nonce': 'b4oGpxL7Afp1TmSNNt1cqQ==', 'platform': 'web', 'probably_has_app': False, 'qe': {'404_as_react': {'g': '', 'p': {}}, 'a2hs_heuristic_non_uc': {'g': '', 'p': {}}, 'a2hs_heuristic_uc': {'g': '', 'p': {}}, 'acc_recovery': {'g': '', 'p': {}}, 'acc_recovery_link': {'g': '', 'p': {}}, 'app_upsell': {'g': '', 'p': {}}, 'app_upsell_li': {'g': '', 'p': {}}, 'appsell': {'g': '', 'p': {}}, 'async_unread_counts': {'g': '', 'p': {}}, 'bc3l': {'g': '', 'p': {}}, 'bg_sync': {'g': 'test', 'p': {'is_enabled': 'true'}}, 'bundles': {'g': '', 'p': {}}, 'collections': {'g': '', 'p': {}}, 'comment_enhance': {'g': 'control', 'p': {'can_like_comments': 'false'}}, 'comment_ta': {'g': '', 'p': {}}, 'cred_man': {'g': '', 'p': {}}, 'direct_conversation_reporting': {'g': '', 'p': {}}, 'disc_ppl': {'g': '', 'p': {}}, 'early_flush': {'g': '', 'p': {}}, 'ebd_ul': {'g': '', 'p': {}}, 'ebdsim_li': {'g': 'test', 'p': {'www_url': 'true'}}, 'ebdsim_lo': {'g': '', 'p': {}}, 'em_sig': {'g': 'test_w_dialog', 'p': {'has_multi_step_email_suggestion': 'true', 'has_signup_email_suggestion': 'false'}}, 'empty_feed': {'g': '', 'p': {}}, 'exit_story_creation': {'g': '', 'p': {}}, 'fb_unlink': {'g': '', 'p': {}}, 'felix': {'g': 'test', 'p': {'is_enabled': 'true'}}, 'felix_clear_fb_cookie': {'g': 'control', 'p': {'blacklist': 'fbsr_124024574287414', 'is_enabled': 'true'}}, 'felix_creation_duration_limits': {'g': 'dogfooding', 'p': {'maximum_length_seconds': '600', 'minimum_length_seconds': '15'}}, 'felix_creation_enabled': {'g': 'control', 'p': {'is_enabled': 'true'}}, 'felix_creation_fb_crossposting': {'g': 'control', 'p': {'is_enabled': 'false'}}, 'felix_creation_fb_crossposting_v2': {'g': 'control', 'p': {'display_version': '2', 'is_enabled': 'true'}}, 'felix_creation_validation': {'g': 'control', 'p': {'description_maximum_length': '2200', 'edit_video_controls': 'true', 'max_video_size_in_bytes': '3600000000', 'title_maximum_length': '75', 'valid_cover_mime_types': 'image/jpeg,image/png', 'valid_video_extensions': 'mp4,mov', 'valid_video_mime_types': 'video/mp4,video/quicktime'}}, 'felix_creation_video_upload': {'g': '', 'p': {}}, 'felix_early_onboarding': {'g': '', 'p': {}}, 'follow_all_fb': {'g': '', 'p': {}}, 'follow_button': {'g': 'test', 'p': {'is_inline': 'true'}}, 'forgot_pass': {'g': '', 'p': {}}, 'form_navigation_dialog': {'g': '', 'p': {}}, 'fsu_count': {'g': '', 'p': {}}, 'gdpr_row_tos': {'g': 'control_05_01', 'p': {'tos_version': 'row'}}, 'general_reporting': {'g': '', 'p': {}}, 'header_scroll': {'g': 'test', 'p': {'activity_page': 'true'}}, 'iab': {'g': 'test', 'p': {'has_open_app_ios': 'true'}}, 'ig_aat': {'g': '', 'p': {}}, 'igtv_public_viewing': {'g': 'control', 'p': {'is_enabled': 'true'}}, 'image_downgrade': {'g': '', 'p': {}}, 'image_downgrade_lite': {'g': 'test', 'p': {'should_downgrade': 'true'}}, 'imgopt': {'g': 'test', 'p': {'progressive': 'true'}}, 'lite_datasaver_mode': {'g': 'test', 'p': {'is_datasaver_enabled': 'true', 'is_datasaver_on': 'true'}}, 'lite_direct_upsell': {'g': 'test', 'p': {}}, 'lite_feed_video_user_tag': {'g': '', 'p': {}}, 'lite_rating': {'g': '', 'p': {'is_enabled': 'false'}}, 'lite_stories_video_preload': {'g': 'test', 'p': {'disable_preload': 'true'}}, 'lite_video_upload': {'g': '', 'p': {}}, 'lo_returnurl': {'g': '', 'p': {}}, 'lo_stories': {'g': '', 'p': {}}, 'log_cont': {'g': '', 'p': {}}, 'login_poe': {'g': '', 'p': {}}, 'mobile_stories_doodling': {'g': '', 'p': {}}, 'msisdn': {'g': '', 'p': {}}, 'multireg_iter': {'g': '', 'p': {}}, 'mweb_topical_explore': {'g': '', 'p': {}}, 'notif': {'g': '', 'p': {}}, 'onetaplogin': {'g': '', 'p': {}}, 'p_edit': {'g': 'control', 'p': {'has_confirm_email': 'false'}}, 'phone_confirm': {'g': '', 'p': {}}, 'post_options': {'g': 'control', 'p': {'use_refactor': 'true'}}, 'profile_enhance_li': {'g': '', 'p': {}}, 'profile_enhance_lo': {'g': 'control', 'p': {'has_tagged': 'false'}}, 'profile_header_name': {'g': '', 'p': {}}, 'profile_tabs': {'g': '', 'p': {}}, 'push_notifications': {'g': 'full_experience', 'p': {'is_enabled': 'true', 'send_push': 'true', 'show_modal': 'true', 'show_notification': 'true'}}, 'reg': {'g': '', 'p': {}}, 'reg_vp': {'g': '', 'p': {}}, 'report_media': {'g': '', 'p': {}}, 'report_profile': {'g': 'test', 'p': {'is_enabled': 'true'}}, 'reporting': {'g': '', 'p': {}}, 'rout': {'g': '', 'p': {}}, 'shfb': {'g': '', 'p': {}}, 'show_copy_link': {'g': '', 'p': {}}, 'sidecar_swipe': {'g': '', 'p': {}}, 'stale': {'g': '', 'p': {}}, 'stale_fix': {'g': '', 'p': {}}, 'stories': {'g': '', 'p': {}}, 'stories_video_preload': {'g': '', 'p': {}}, 'su': {'g': 'thirty', 'p': {'su_fetch_count': '30'}}, 'su_universe': {'g': '', 'p': {}}, 'tp_pblshr': {'g': '', 'p': {}}, 'unfollow_confirm': {'g': '', 'p': {}}, 'video': {'g': '', 'p': {}}, 'web_datasaver_mode': {'g': 'test', 'p': {'is_datasaver_enabled': 'true', 'is_datasaver_on': 'true'}}, 'web_embeds_logged_out': {'g': 'control_comment_input', 'p': {'show_comment_input': 'false'}}, 'web_embeds_share': {'g': '', 'p': {}}, 'web_hashtag': {'g': '', 'p': {}}, 'web_hashtag_logged_out': {'g': '', 'p': {}}, 'web_lo_follow': {'g': '', 'p': {}}, 'web_loggedout_noop': {'g': '', 'p': {}}, 'web_nametag': {'g': '', 'p': {}}, 'web_share': {'g': '', 'p': {}}, 'web_share_lo': {'g': '', 'p': {}}, 'websr': {'g': '', 'p': {}}}, 'rhx_gis': 'ecf643ee20f7c71e2b206d4c3cd61e31', 'rollout_hash': '2c7198c5e9dc', 'server_checks': {}, 'supports_es6': False, 'zero_data': {}}\n"
     ]
    },
    {
     "name": "stdout",
     "output_type": "stream",
     "text": [
      "['ash=5b0222df65d7f6659c9b82246780caa7&vari']\n",
      "{'id': '1902929609117627206', 'display_url': 'https://instagram.fdnk1-2.fna.fbcdn.net/vp/8305fe9d041da3faf88c51701ba20080/5C66E4D2/t51.2885-15/e35/43914399_265493334157124_5574756379274510336_n.jpg', 'is_video': False, 'text': '5:30am 🌊', 'title': '5:30am 🌊 ', 'language': 'cy', 'shortcode': 'BpokGW4B3NG', 'comments_count': 2885, 'timestamp': 1541066908, 'foundtime': 1541416204, 'like_count': 458839, 'owner': '189003872', 'url': 'https://www.instagram.com/p/BpokGW4B3NG'}\n",
      "{'id': '1901093215126610637', 'display_url': 'https://instagram.fdnk1-2.fna.fbcdn.net/vp/97a50d32d1ec833f1bb928975c715353/5C6A421E/t51.2885-15/e35/43914289_362904701118277_7335164440548999168_n.jpg', 'is_video': False, 'text': 'Купил ковёр в ИКЕА. Все необходимое взял, полечу с птицами на Юг )', 'title': 'Купил ковёр в ИКЕА. Все необходимое взял, полечу с птицами на ', 'language': 'ru', 'shortcode': 'BpiCjTshuLN', 'comments_count': 1809, 'timestamp': 1540847993, 'foundtime': 1541416204, 'like_count': 261633, 'owner': '189003872', 'url': 'https://www.instagram.com/p/BpiCjTshuLN'}\n",
      "{'id': '1899401711773156481', 'display_url': 'https://instagram.fdnk1-2.fna.fbcdn.net/vp/c9ca6ca1785fe7e367464da66a709d75/5C63795D/t51.2885-15/e35/42995305_385840145288284_8121597446645088256_n.jpg', 'is_video': False, 'text': 'Тбилиси ⚡️', 'title': 'Тбилиси ⚡️ ', 'language': 'mk', 'shortcode': 'BpcB8scAgSB', 'comments_count': 3657, 'timestamp': 1540646350, 'foundtime': 1541416204, 'like_count': 497617, 'owner': '189003872', 'url': 'https://www.instagram.com/p/BpcB8scAgSB'}\n",
      "{'id': '1897491307778071934', 'display_url': 'https://instagram.fdnk1-2.fna.fbcdn.net/vp/e7764d51211173620e4328254d55b59d/5C6C0F50/t51.2885-15/e35/43914260_546579389096901_3376735384405803008_n.jpg', 'is_video': False, 'text': 'В игре с 1997г. Отвечаю за своё, все что имею - заслуженно работой. Жалею лишь о том, что не все с кем начинал, смогли увидеть плоды этой самой работы и разделить с нами успех. В один день мы все снова встретимся. Но пока есть время, надо извлекать из него максимум, ведь моложе мы уже никогда не станем )', 'title': 'В игре с 1997г. Отвечаю за своё, все что имею - ', 'language': 'ru', 'shortcode': 'BpVPkqEgN1-', 'comments_count': 6356, 'timestamp': 1540418612, 'foundtime': 1541416204, 'like_count': 398187, 'owner': '189003872', 'url': 'https://www.instagram.com/p/BpVPkqEgN1-'}\n",
      "{'id': '1895725356518788037', 'display_url': 'https://instagram.fdnk1-2.fna.fbcdn.net/vp/ce9105cb3d41b0cea0eb2a02ec080d8f/5C894513/t51.2885-15/e35/43595908_539223629855480_8884927862310699008_n.jpg', 'is_video': False, 'text': '@drxromanelli x @guess 🐻🖤', 'title': '@drxromanelli x @guess 🐻🖤 ', 'language': 'ca', 'shortcode': 'BpO-CrzAMvF', 'comments_count': 2927, 'timestamp': 1540208094, 'foundtime': 1541416204, 'like_count': 465962, 'owner': '189003872', 'url': 'https://www.instagram.com/p/BpO-CrzAMvF'}\n",
      "{'id': '1894319856975669666', 'display_url': 'https://instagram.fdnk1-2.fna.fbcdn.net/vp/ab4a28f4d0cc2954546089bb062ef8de/5BE2BD2D/t51.2885-15/e15/43700554_115527029327086_7569449482002104320_n.jpg', 'is_video': True, 'text': 'Это не простая задача, собрать лучший коллектив в стране !!! В России очень много достойных мастеров, но все работают в основном по отдельности. В @13byblackstar крутой КОЛЛЕКТИВ !!! Именно поэтому многие именитые мастера, возвращаются к нам в ходе гастролей. Атмосфера и правильные люди решают. Заходи, записывайся на консультацию и проверяй) @13byblackstar ⚡️', 'title': 'Это не простая задача, собрать лучший коллектив в стране !!! В ', 'language': 'ru', 'shortcode': 'BpJ-d-WAOmi', 'comments_count': 1919, 'timestamp': 1540040978, 'foundtime': 1541416204, 'like_count': 159388, 'owner': '189003872', 'url': 'https://www.instagram.com/p/BpJ-d-WAOmi'}\n",
      "{'id': '1893562408941691424', 'display_url': 'https://instagram.fdnk1-2.fna.fbcdn.net/vp/a205f213c73be2337e4e5a376847cfb4/5C70E920/t51.2885-15/e35/42975975_739964426340847_4295677640641085440_n.jpg', 'is_video': False, 'text': '🤗😆', 'title': '🤗😆 ', 'language': 'en', 'shortcode': 'BpHSPp5AKIg', 'comments_count': 2722, 'timestamp': 1539950251, 'foundtime': 1541416204, 'like_count': 699362, 'owner': '189003872', 'url': 'https://www.instagram.com/p/BpHSPp5AKIg'}\n",
      "{'id': '1892910151241906333', 'display_url': 'https://instagram.fdnk1-2.fna.fbcdn.net/vp/f3465ea83f6a6b5f5a9b3a4db886806d/5C84D543/t51.2885-15/e35/43093046_317855332102136_2558511777709031424_n.jpg', 'is_video': False, 'text': '#Repost @blackstarofficial\\n・・・\\nПриносим свои соболезнования семьям жертв и пострадавших в Керчи. В связи с ужасной трагедией мы переносим перечисленные ниже концерты: ⠀\\n👇🏿👇🏿👇🏿⠀\\n@mmott23: Москва (Корстон), 19.10 ➡️ 16.11⠀\\n----------------------------------\\n@klavacoca: ⠀\\nПермь, 18.10 ➡️ дата уточняется⠀\\nЕкатеринбург, 19.10 ➡️ 25.10⠀\\nСургут, 22.10 ➡️ дата уточняется⠀\\n----------------------------------\\n@danasokolova_official: Казань 19.10 ➡️ 3.11⠀\\n----------------------------------\\n@egorkreed: ⠀\\nСтаврополь, 18.10 ➡️ 27.02.19 ⠀\\nАрхангельск, 19.10 ➡️ 22.02.19 ⠀\\n----------------------------------\\n@l_one_mars: ⠀\\nСаратов, 18.10 ➡️ дата уточняется⠀\\n----------------------------------⠀ ⠀ \\nСпасибо за понимание и до встречи на концертах наших артистов!⠀', 'title': '#Repost @blackstarofficial\\n・・・\\nПриносим свои соболезнования семьям жертв и пострадавших в Керчи. В ', 'language': 'ru', 'shortcode': 'BpE98DkgTid', 'comments_count': 1082, 'timestamp': 1539872496, 'foundtime': 1541416204, 'like_count': 89187, 'owner': '189003872', 'url': 'https://www.instagram.com/p/BpE98DkgTid'}\n",
      "{'id': '1892283205000723883', 'display_url': 'https://instagram.fdnk1-2.fna.fbcdn.net/vp/d3a349020b6a240addcd0b8e3dc84889/5C694F05/t51.2885-15/e35/42422013_621767701553332_3257085356545146880_n.jpg', 'is_video': False, 'text': '', 'title': '', 'language': 'en', 'shortcode': 'BpCvYyYgX2r', 'comments_count': 2178, 'timestamp': 1539797758, 'foundtime': 1541416204, 'like_count': 270695, 'owner': '189003872', 'url': 'https://www.instagram.com/p/BpCvYyYgX2r'}\n",
      "{'id': '1892132904474037177', 'display_url': 'https://instagram.fdnk1-2.fna.fbcdn.net/vp/4f4b889e785547567125861c97c50dc5/5BE2C313/t51.2885-15/fr/e15/s1080x1080/42455584_175494250035934_8413976336002973696_n.jpg', 'is_video': True, 'text': 'BLACK STAR x BORK 💸⚡️', 'title': 'BLACK STAR x BORK 💸⚡️ ', 'language': 'so', 'shortcode': 'BpCNNoHAMu5', 'comments_count': 3181, 'timestamp': 1539779893, 'foundtime': 1541416204, 'like_count': 308034, 'owner': '189003872', 'url': 'https://www.instagram.com/p/BpCNNoHAMu5'}\n",
      "{'id': '1891388355669771287', 'display_url': 'https://instagram.fdnk1-2.fna.fbcdn.net/vp/e9366e6bf9c60348e3edf24c77726c9f/5BE234F4/t51.2885-15/fr/e15/s1080x1080/43119100_299895973945706_3695664327068483584_n.jpg', 'is_video': True, 'text': 'Если вопросов больше нет, то пристегните ремни. Мы начинаем второй сезон, самого лучшего в стране музыкального шоу. Это @pesninatnt !!! @tnt_online 🚀', 'title': 'Если вопросов больше нет, то пристегните ремни. Мы начинаем второй сезон, ', 'language': 'ru', 'shortcode': 'Bo_j7BAAcQX', 'comments_count': 1468, 'timestamp': 1539691342, 'foundtime': 1541416204, 'like_count': 108146, 'owner': '189003872', 'url': 'https://www.instagram.com/p/Bo_j7BAAcQX'}\n",
      "{'id': '1890758997401908512', 'display_url': 'https://instagram.fdnk1-2.fna.fbcdn.net/vp/7cb0cc712326f567e35865054e761006/5C6DC832/t51.2885-15/e35/42892001_249255992432287_2326844660556759040_n.jpg', 'is_video': False, 'text': 'Art is Life ⚡️', 'title': 'Art is Life ⚡️ ', 'language': 'de', 'shortcode': 'Bo9U0pcA7Ug', 'comments_count': 1597, 'timestamp': 1539616058, 'foundtime': 1541416204, 'like_count': 322980, 'owner': '189003872', 'url': 'https://www.instagram.com/p/Bo9U0pcA7Ug'}\n",
      "{'id': '1890040463466065282', 'display_url': 'https://instagram.fdnk1-2.fna.fbcdn.net/vp/cc8e8c42dac5d7558772508f4a8f7240/5BE2D077/t51.2885-15/e15/43003061_183599529220730_4044172258527150080_n.jpg', 'is_video': True, 'text': 'Я не выкладываю свои тачки особо. Но здесь не удержался. Эта проста идеальна 🐗', 'title': 'Я не выкладываю свои тачки особо. Но здесь не удержался. Эта ', 'language': 'ru', 'shortcode': 'Bo6xcmkAm2C', 'comments_count': 7079, 'timestamp': 1539530766, 'foundtime': 1541416204, 'like_count': 364985, 'owner': '189003872', 'url': 'https://www.instagram.com/p/Bo6xcmkAm2C'}\n",
      "{'id': '1888631820669635015', 'display_url': 'https://instagram.fdnk1-2.fna.fbcdn.net/vp/e75b22ee1762750e5501eee7d98da2e0/5C89826E/t51.2885-15/e35/42758198_1954145191329086_8636137878780379136_n.jpg', 'is_video': False, 'text': 'В то время пока болтуны, продолжают бить по кнопкам ))) Все права на термин «Шалинский свадебный прыжок» за мной ))) Ахмат Сила @za_kadyrov_95 💪🏼\\nХабиб Сила @khabib_nurmagomedov 💪🏼 Дагестан до встречи ☝🏼........................................................... #Repost @za_kadyrov_95 ・・・\\nГлавное в нашей жизни - взаимопонимание... Оно невозможно без обоюдного стремления к истине. При этом должен быть кто-то, кто возьмёт на себя миссию по достижению такой богоугодной цели в отношениях между людьми... И @khabib_nurmagomedov Хабиба Нурмагомедова, и @timatiofficial Тимура Беноевского (Тимати) я считаю своими Братьями. В данный момент, после общения с ними, я испытываю естественную человеческую радость от того, что это самое взаимопонимание достигнуто. Тимур охотно и с большим пониманием принял наши доводы о том, что репертуар даже самого известного артиста должен отвечать специфике того региона, где он должен выступать... А что касается Хабиба, то здесь, как оказалось все ещё проще. Он  и не думал задеть достоинство лично Тимура, когда использовал крепкие выражения в своих нашумевших постах. Я хочу вас заверить ещё кое-в чем. Тимур сказал мне, что болел и болеет за Хабиба всей душой вместе с Дагестаном, Кавказом и всей Россией. \\nВ итоге, наш джигит Хабиб проявил готовность к новому мощному прыжку, но на этот раз - прыжку дружбы))) А Тимур, вспомнив про известное чеченское видео, даже дал ему громкое название - «Шалинский свадебный прыжок»))) Вот такими шутками в адрес друг друга и назло все злопыхателям закончили эту историю мои Братья. Благодарю и Хабиба и Тимура за выдержку и понимание. Очень рад, что мое скромное посредничество сослужило такую добрую службу. Желаю всем нам мира, согласия и, что так же важно - взаимопонимания!', 'title': 'В то время пока болтуны, продолжают бить по кнопкам ))) Все ', 'language': 'ru', 'shortcode': 'Bo1xKJug0nH', 'comments_count': 10892, 'timestamp': 1539362479, 'foundtime': 1541416204, 'like_count': 509716, 'owner': '189003872', 'url': 'https://www.instagram.com/p/Bo1xKJug0nH'}\n",
      "{'id': '1887638948307485971', 'display_url': 'https://instagram.fdnk1-2.fna.fbcdn.net/vp/690db3d5887c6c33a6af3824133e9274/5BE2C36F/t51.2885-15/e15/42150452_1847332605304307_4311309710985789440_n.jpg', 'is_video': True, 'text': 'Ульяновск, спасибо за тёплый приём 🔥 #турпоколениетимати', 'title': 'Ульяновск, спасибо за тёплый приём 🔥 #турпоколениетимати ', 'language': 'ru', 'shortcode': 'BoyPZ9SD0UT', 'comments_count': 3607, 'timestamp': 1539244615, 'foundtime': 1541416204, 'like_count': 200678, 'owner': '189003872', 'url': 'https://www.instagram.com/p/BoyPZ9SD0UT'}\n",
      "{'id': '1886505485331344997', 'display_url': 'https://instagram.fdnk1-2.fna.fbcdn.net/vp/556631b07f8809335701c36454b36ff2/5BE27C25/t51.2885-15/fr/e15/s1080x1080/42372850_255271348478956_233172528959324160_n.jpg', 'is_video': True, 'text': 'Продолжение следует...⚡️\\nBLACKSTAR x BORK', 'title': 'Продолжение следует...⚡️\\nBLACKSTAR x BORK ', 'language': 'ru', 'shortcode': 'BouNr5oAC5l', 'comments_count': 4084, 'timestamp': 1539109053, 'foundtime': 1541416204, 'like_count': 221581, 'owner': '189003872', 'url': 'https://www.instagram.com/p/BouNr5oAC5l'}\n",
      "{'id': '1885689487657448273', 'display_url': 'https://instagram.fdnk1-2.fna.fbcdn.net/vp/2c7ad933b65f7a73d8a49d6117cb9649/5BE2AF69/t51.2885-15/e15/42002668_312978012865973_869196025162629120_n.jpg', 'is_video': True, 'text': 'Написано специально к двухсотлетию летию города Грозный. Тимур Беноевский - «Грозный» доступно к скачиванию на всех диджитал площадках. Приятного прослушивания )) p.s. История появления нового имени (Тимур Беноевский) принадлежит @za_kadyrov_95 )))', 'title': 'Написано специально к двухсотлетию летию города Грозный. Тимур Беноевский - «Грозный» ', 'language': 'ru', 'shortcode': 'BorUJkkgrNR', 'comments_count': 7872, 'timestamp': 1539012026, 'foundtime': 1541416204, 'like_count': 138343, 'owner': '189003872', 'url': 'https://www.instagram.com/p/BorUJkkgrNR'}\n",
      "{'id': '1884910633623992807', 'display_url': 'https://instagram.fdnk1-2.fna.fbcdn.net/vp/2ec7b9358f21e2f2a50921db0d3eabc3/5C89FA46/t51.2885-15/e35/41878124_166939057547837_4147900275685851136_n.jpg', 'is_video': False, 'text': 'Владимир Владимирович, долгих лет жизни вам, здоровья и терпения. У нас достойный Президент. С днём рождения. Россия только вперёд 🇷🇺💪🏼', 'title': 'Владимир Владимирович, долгих лет жизни вам, здоровья и терпения. У нас ', 'language': 'ru', 'shortcode': 'BoojDwOg7nn', 'comments_count': 6273, 'timestamp': 1538918879, 'foundtime': 1541416204, 'like_count': 688762, 'owner': '189003872', 'url': 'https://www.instagram.com/p/BoojDwOg7nn'}\n",
      "{'id': '1884333438295703307', 'display_url': 'https://instagram.fdnk1-2.fna.fbcdn.net/vp/354d36e76cdc737f5f0620946452f47f/5BE2B929/t51.2885-15/e15/42003254_1616675165114373_78343334510198784_n.jpg', 'is_video': True, 'text': 'К сожалению не все понимают что такое Братские отношения, и как они могут объединять двух, казалось бы абсолютно разных людей. У меня много разных песен, среди них и не цензурных много - это факт. Но эту я готовил со всей любовью к Городу и ко всей его команде. Прошу не путать «жополизство» с УВАЖЕНИЕМ, это совсем разные понятия. Я рад что ты поймал кайф Брат ))) Для всех кому понравился отрывок, завтра выпущу песню целиком. Тимур Беноевский - «Грозный»\\n\\n#Repost @za_kadyrov_95\\n・・・\\nЖизнь идёт своим чередом и мне кажется, что нужно прекращать все эти бодания, левые разговоры с разных сторон, неуместные подколы и просто шпильки ради пиара... Я уверен, что нужно жить позитивно, делиться хорошими новостями и жизнь свою обставить красиво и надежно. А если мы все таки недовольны кем-то, может лучше повлиять на него тёплыми словами? Словами от чистого сердца? Я, например, слушаю музыку моего Брата @timatiofficial Тимура Беноевского и у меня хорошее настроение, которым я делюсь сегодня с вами... Уверен, это будущий хит.🤝👍 #кадыровсила #кадыров #закадырова💪🏻 #чечня #грозный #брат #ТимурБеноевский', 'title': 'К сожалению не все понимают что такое Братские отношения, и как ', 'language': 'ru', 'shortcode': 'Bomf0dMAX8L', 'comments_count': 9070, 'timestamp': 1538850624, 'foundtime': 1541416204, 'like_count': 490141, 'owner': '189003872', 'url': 'https://www.instagram.com/p/Bomf0dMAX8L'}\n",
      "{'id': '1883788865535171232', 'display_url': 'https://instagram.fdnk1-2.fna.fbcdn.net/vp/74954581df80a75479b346b4e3c960f6/5C6DC9C5/t51.2885-15/e35/41994118_488054398271760_5826505436357984256_n.jpg', 'is_video': False, 'text': 'Дорогой Брат, я могу на двадцать два листа накатать слов о моем отношении к тебе. Но ты разговоры не любишь, поэтому за последние 5 лет я больше по действиям )) От всей души поздравляю с двухсотлетием Грозного и с твоим Днём рождения !!! Я всегда рядом 24/7 🤣 Ахмат-Сила 💪🏼 @za_kadyrov_95 ☝🏼', 'title': 'Дорогой Брат, я могу на двадцать два листа накатать слов о ', 'language': 'ru', 'shortcode': 'Bokj_4SD1qg', 'comments_count': 3714, 'timestamp': 1538785154, 'foundtime': 1541416204, 'like_count': 724550, 'owner': '189003872', 'url': 'https://www.instagram.com/p/Bokj_4SD1qg'}\n",
      "{'id': '1882026345627491359', 'display_url': 'https://instagram.fdnk1-2.fna.fbcdn.net/vp/628765c68eb8bcee1ac9129849e382a3/5BE248F7/t51.2885-15/e15/41658859_904001523321038_4965315535177777152_n.jpg', 'is_video': True, 'text': 'Научиться гонять ночью, в грозу - выполнено ✔️', 'title': 'Научиться гонять ночью, в грозу - выполнено ✔️ ', 'language': 'ru', 'shortcode': 'BoeTP1tDZwf', 'comments_count': 2775, 'timestamp': 1538575694, 'foundtime': 1541416204, 'like_count': 318720, 'owner': '189003872', 'url': 'https://www.instagram.com/p/BoeTP1tDZwf'}\n",
      "{'id': '1880567331999809972', 'display_url': 'https://instagram.fdnk1-2.fna.fbcdn.net/vp/3c3c7de60453088b107893d06eb3b2a5/5BE2D332/t51.2885-15/e15/42080535_2154772507867856_1419214493480648704_n.jpg', 'is_video': True, 'text': '360* на подходе + тандем 🔥))', 'title': '360* на подходе + тандем 🔥)) ', 'language': 'ru', 'shortcode': 'BoZHgZYDYG0', 'comments_count': 4740, 'timestamp': 1538401179, 'foundtime': 1541416204, 'like_count': 457136, 'owner': '189003872', 'url': 'https://www.instagram.com/p/BoZHgZYDYG0'}\n"
     ]
    },
    {
     "name": "stdout",
     "output_type": "stream",
     "text": [
      "{'id': '1879763765303374586', 'display_url': 'https://instagram.fdnk1-2.fna.fbcdn.net/vp/ace1e84c798092862d5c3857911da446/5BE26465/t51.2885-15/e15/41646442_2126615137657124_9106229990722109440_n.jpg', 'is_video': True, 'text': 'Сегодня я исполню мечту миллионов девушек. @volkonskaya.reshetova 👋🏼🤣', 'title': 'Сегодня я исполню мечту миллионов девушек. @volkonskaya.reshetova 👋🏼🤣 ', 'language': 'ru', 'shortcode': 'BoWQy9kjvL6', 'comments_count': 6564, 'timestamp': 1538305372, 'foundtime': 1541416204, 'like_count': 431029, 'owner': '189003872', 'url': 'https://www.instagram.com/p/BoWQy9kjvL6'}\n",
      "{'id': '1879085989658588007', 'display_url': 'https://instagram.fdnk1-2.fna.fbcdn.net/vp/d99dd4196505db5f9f41ff0462dd50ab/5BE2C9C6/t51.2885-15/e15/41684261_932360426950478_4031656642222227456_n.jpg', 'is_video': True, 'text': 'Лучше из того что происходило в воде, за последние три дня ))) 🐬🙏🏼', 'title': 'Лучше из того что происходило в воде, за последние три дня ', 'language': 'ru', 'shortcode': 'BoT2sB0A3Nn', 'comments_count': 5116, 'timestamp': 1538224843, 'foundtime': 1541416204, 'like_count': 534610, 'owner': '189003872', 'url': 'https://www.instagram.com/p/BoT2sB0A3Nn'}\n",
      "{'id': '1877869254792758599', 'display_url': 'https://instagram.fdnk1-2.fna.fbcdn.net/vp/1a2e67897d43011468d4a35334ff6812/5BE2A43A/t51.2885-15/e15/42730270_232469284293333_1159846898853478400_n.jpg', 'is_video': True, 'text': 'Грозный за последние 5лет стал моим вторым домом !!! Я проехал всю страну и был почти в каждом из крупных городов, но не один не оставил такого глубокого впечатления. Меня связывают с этим местом только приятные воспоминания и это место в прямом смысле растёт на глазах !! За 5 лет город увеличился в двое !! Можно 100 раз услышать, но лучше один раз увидеть !!! Мы с @za_kadyrov_95 приглашаем всех АДЕКВАТНЫХ🤣 подписчиков, присоединиться к нам 4-5го Октября и отпраздновать 200т летие города Грозный !!! Перечислять имена тех кто будет нет смысла, на странице не хватит места. В эту дату, самолёты летят со всего мира !!! До встречи и Салам Уалейкум 👋🏼🙏🏼 #Грозный200лет', 'title': 'Грозный за последние 5лет стал моим вторым домом !!! Я проехал ', 'language': 'ru', 'shortcode': 'BoPiCNKjMVH', 'comments_count': 3884, 'timestamp': 1538080160, 'foundtime': 1541416204, 'like_count': 250890, 'owner': '189003872', 'url': 'https://www.instagram.com/p/BoPiCNKjMVH'}\n",
      "{'id': '1877623001341354866', 'display_url': 'https://instagram.fdnk1-2.fna.fbcdn.net/vp/de093b6296b41e9fb47c655ff7583a02/5BE25953/t51.2885-15/fr/e15/s1080x1080/41389983_263733207605848_6827411371001380864_n.jpg', 'is_video': True, 'text': 'Продолжение следует.................💸 BLACK STAR х BORK', 'title': 'Продолжение следует.................💸 BLACK STAR х BORK ', 'language': 'ru', 'shortcode': 'BoOqCvxDeNy', 'comments_count': 3115, 'timestamp': 1538050195, 'foundtime': 1541416204, 'like_count': 262378, 'owner': '189003872', 'url': 'https://www.instagram.com/p/BoOqCvxDeNy'}\n",
      "{'id': '1875577525154632319', 'display_url': 'https://instagram.fdnk1-2.fna.fbcdn.net/vp/6daef1346c62eb118085cb37e6f19f31/5BE286D2/t51.2885-15/e15/41537568_320736918729295_264794079647236096_n.jpg', 'is_video': True, 'text': 'Новый Коул-Слоу Бургер уже в меню !!! Это @blackstarburger #1 вкус в 🇷🇺☝🏼', 'title': 'Новый Коул-Слоу Бургер уже в меню !!! Это @blackstarburger #1 вкус ', 'language': 'ru', 'shortcode': 'BoHY9JnjFJ_', 'comments_count': 8302, 'timestamp': 1537806361, 'foundtime': 1541416204, 'like_count': 410741, 'owner': '189003872', 'url': 'https://www.instagram.com/p/BoHY9JnjFJ_'}\n",
      "{'id': '1873539917624977443', 'display_url': 'https://instagram.fdnk1-2.fna.fbcdn.net/vp/62e26d611ec50649699edbd48d3869cd/5C71FFBD/t51.2885-15/e35/40958579_1099442256900505_2462078272876314624_n.jpg', 'is_video': False, 'text': 'Мечтам суждено сбываться. @george.condo 🔪❤️', 'title': 'Мечтам суждено сбываться. @george.condo 🔪❤️ ', 'language': 'ru', 'shortcode': 'BoAJqDujSgj', 'comments_count': 2566, 'timestamp': 1537563384, 'foundtime': 1541416204, 'like_count': 353320, 'owner': '189003872', 'url': 'https://www.instagram.com/p/BoAJqDujSgj'}\n",
      "{'id': '1872683802515231303', 'display_url': 'https://instagram.fdnk1-2.fna.fbcdn.net/vp/0a5baece15fab76a14872611ad2ca067/5BE292E2/t51.2885-15/e15/41296653_307821690021280_3184837289297575936_n.jpg', 'is_video': True, 'text': 'Сочи, Сочи, Сочи 💥💥💥 #турпоколениетимати', 'title': 'Сочи, Сочи, Сочи 💥💥💥 #турпоколениетимати ', 'language': 'mk', 'shortcode': 'Bn9G_8ZjFJH', 'comments_count': 3283, 'timestamp': 1537461485, 'foundtime': 1541416204, 'like_count': 297511, 'owner': '189003872', 'url': 'https://www.instagram.com/p/Bn9G_8ZjFJH'}\n",
      "{'id': '1871069056688098381', 'display_url': 'https://instagram.fdnk1-2.fna.fbcdn.net/vp/fe18b05ee08ad54ceed47e79aae82759/5BE2BDEE/t51.2885-15/e15/40880218_291166291485544_8398742945997520896_n.jpg', 'is_video': True, 'text': 'Москва 🇷🇺💪🏼💯❤️', 'title': 'Москва 🇷🇺💪🏼💯❤️ ', 'language': 'ru', 'shortcode': 'Bn3X2TKHoxN', 'comments_count': 2600, 'timestamp': 1537268950, 'foundtime': 1541416204, 'like_count': 176208, 'owner': '189003872', 'url': 'https://www.instagram.com/p/Bn3X2TKHoxN'}\n",
      "{'id': '1869697270011608220', 'display_url': 'https://instagram.fdnk1-2.fna.fbcdn.net/vp/56a33e681e1d1b2c8d31373f2c713f0f/5C8211A7/t51.2885-15/e35/40301504_247012849343406_8785391359570739200_n.jpg', 'is_video': False, 'text': 'Когда я начал собирать коллекцию медведей, я знал что однажды  этот засранец пополнит мои ряды. Но мое желание, оставалось лишь фантазией, тк этот экспонат, в числе 50и произведённых единиц, никогда не поступал в продажу, и был разослан как подарок, только самым близким для бренда людям. Но к своему большому удивлению я получил его в подарок от @karllagerfeld !!! Он сказал: я видел твои фото с медведями, пора переходить на новый уровень)) и передал мне его летом из своей личной коллекции 🙌🏼 p.s. Нет назначения у этих медведей)) каждая серия это «коллаб» с известным брендом, художником или фондом артиста. Каждая серия ограничена и чем меньше тираж, чем старше серия, тем больше она котируется тем дороже ее рынок. Это объекты современного искусства, которые торгуются на всех самых крупных аукционах. Это не игрушки для детей. Это предмет интерьера для людей разбирающихся в этом течении. Планирую собрать одну из самых больших в мире коллекций и сделать выставку в Москве. Надеюсь получится )))', 'title': 'Когда я начал собирать коллекцию медведей, я знал что однажды  ', 'language': 'ru', 'shortcode': 'Bnyf8LQjzyc', 'comments_count': 5392, 'timestamp': 1537105304, 'foundtime': 1541416204, 'like_count': 696740, 'owner': '189003872', 'url': 'https://www.instagram.com/p/Bnyf8LQjzyc'}\n",
      "{'id': '1868468431163411764', 'display_url': 'https://instagram.fdnk1-2.fna.fbcdn.net/vp/d13fce14bc20e7a9e233a1ad1c80bd4b/5BE271A7/t51.2885-15/e15/41292305_234289834099672_1938739638889873408_n.jpg', 'is_video': True, 'text': 'С этого дня @fkirkorov подписан на Black Star !!! Спасибо @egorkreed за то что сумел разглядеть этот молодой и перспективный талант ☝🏼 #ЦветНастроенияЧерный 🤣🤣🤣', 'title': 'С этого дня @fkirkorov подписан на Black Star !!! Спасибо @egorkreed ', 'language': 'ru', 'shortcode': 'BnuIiN5hs00', 'comments_count': 5408, 'timestamp': 1536958962, 'foundtime': 1541416204, 'like_count': 461219, 'owner': '189003872', 'url': 'https://www.instagram.com/p/BnuIiN5hs00'}\n",
      "{'id': '1867695955374976965', 'display_url': 'https://instagram.fdnk1-2.fna.fbcdn.net/vp/b98bac00f466e8963a36af6977d5bdfe/5BE29C1C/t51.2885-15/e15/40836847_1918815258421788_2112585097394782208_n.jpg', 'is_video': True, 'text': 'ПИТЕР ОТ ДУШИ !!!!!!!!!!!!!!!!!!!!!!!!!!!!!!\\nЗа 6 часов после анонса о моем приезде почти 10т чел на площади. Спасибо всем кто пришёл поддержать!! В этот раз вас было так много, что на всех точно не хватило (( Надеюсь это не испортило ощущений от встречи !! @blackstarburger - Санкт Петербург официально открыт !!! На сегодняшний день уже работает 10 точек по России и 30 находятся в стадии ремонта !!! Мы строим крупнейший Российский бренд в сфере фаст-фуда, способный конкурировать с любым западным аналогом !!! Делайте бизнес вместе с нами - это @blackstarburger 🍔🇷🇺💯💪🏼 #BlackStarBurger', 'title': 'ПИТЕР ОТ ДУШИ !!!!!!!!!!!!!!!!!!!!!!!!!!!!!!\\nЗа 6 часов после анонса о моем приезде ', 'language': 'ru', 'shortcode': 'BnrY5Nwjy_F', 'comments_count': 5803, 'timestamp': 1536867321, 'foundtime': 1541416204, 'like_count': 381131, 'owner': '189003872', 'url': 'https://www.instagram.com/p/BnrY5Nwjy_F'}\n",
      "{'id': '1866995762686478043', 'display_url': 'https://instagram.fdnk1-2.fna.fbcdn.net/vp/f98381f599dbdb877259857a064b4b3f/5BE2372D/t51.2885-15/e15/40450679_719801838360156_3886921643120918528_n.jpg', 'is_video': True, 'text': 'Кто не понял, тот поймёт @za_kadyrov_95 )))', 'title': 'Кто не понял, тот поймёт @za_kadyrov_95 ))) ', 'language': 'bg', 'shortcode': 'Bno5sEgFkbb', 'comments_count': 28105, 'timestamp': 1536783420, 'foundtime': 1541416204, 'like_count': 680686, 'owner': '189003872', 'url': 'https://www.instagram.com/p/Bno5sEgFkbb'}\n",
      "{'id': '1866722723637400575', 'display_url': 'https://instagram.fdnk1-2.fna.fbcdn.net/vp/cf8df0a465ac3cfd01cd568cda9a3c82/5BE296E5/t51.2885-15/e15/40713475_1891622770955967_6800286513633427456_n.jpg', 'is_video': True, 'text': '@gqrussia 📸', 'title': '@gqrussia 📸 ', 'language': 'it', 'shortcode': 'Bnn7m1EjpP_', 'comments_count': 7917, 'timestamp': 1536750847, 'foundtime': 1541416204, 'like_count': 498747, 'owner': '189003872', 'url': 'https://www.instagram.com/p/Bnn7m1EjpP_'}\n",
      "{'id': '1865930129114146728', 'display_url': 'https://instagram.fdnk1-2.fna.fbcdn.net/vp/1d26bdd28bb2a469883121d396f4434c/5C6704EF/t51.2885-15/e35/40826011_319444835528007_5617621935300018176_n.jpg', 'is_video': False, 'text': 'Никто мне, в моей стране, не будет указывать, где давать концерты а где их не давать. Так же для всех не далеких, узколобых - разжигание межнациональных конфликтов на почве «религиозных соображений» достаточно зыбкая почва в 2018, она так же преследуется законом. Если мы говорим о религии: тогда не деритесь за деньги и не выставляйте фото с ринга в трусах, не добивайте лежачего, и не ругайтесь матом. А пока вы все это не соблюдаете сами, но пытаетесь вести глубоко-нравственную мораль, вы выглядите смешно, в глазах собственной же аудитории, для этого достаточно почитать комментарии под вашими же собственными публикациями. Я до последнего не хотел этого разговора, и всегда с уважением относился к этой команде спортсменов. Но грань перечеркнута, слов назад не вернуть. Все будет так как будет. Бог вам судья. Удачи в предстоящем бою.', 'title': 'Никто мне, в моей стране, не будет указывать, где давать концерты ', 'language': 'ru', 'shortcode': 'BnlHZD5jCeo', 'comments_count': 66397, 'timestamp': 1536656226, 'foundtime': 1541416204, 'like_count': 847710, 'owner': '189003872', 'url': 'https://www.instagram.com/p/BnlHZD5jCeo'}\n",
      "{'id': '1864869015978978086', 'display_url': 'https://instagram.fdnk1-2.fna.fbcdn.net/vp/4b7fc3e498092745d694237a593af0c4/5BE2BD40/t51.2885-15/e15/40435104_206658423385837_1540467287172055040_n.jpg', 'is_video': False, 'text': '@khabib_nurmagomedov', 'title': '@khabib_nurmagomedov ', 'language': 'so', 'shortcode': 'BnhWH1SDysm', 'comments_count': 40276, 'timestamp': 1536529732, 'foundtime': 1541416204, 'like_count': 614097, 'owner': '189003872', 'url': 'https://www.instagram.com/p/BnhWH1SDysm'}\n",
      "{'id': '1864784609335401931', 'display_url': 'https://instagram.fdnk1-2.fna.fbcdn.net/vp/f875d9455fe6b148b4dfd21f9d38af53/5BE28647/t51.2885-15/e15/40594714_510110259415107_5734815336356642816_n.jpg', 'is_video': True, 'text': 'Москва 2018 🚀', 'title': 'Москва 2018 🚀 ', 'language': 'ru', 'shortcode': 'BnhC7jeDV3L', 'comments_count': 2360, 'timestamp': 1536519724, 'foundtime': 1541416204, 'like_count': 217354, 'owner': '189003872', 'url': 'https://www.instagram.com/p/BnhC7jeDV3L'}\n",
      "{'id': '1863882102388141554', 'display_url': 'https://instagram.fdnk1-2.fna.fbcdn.net/vp/8e46c5ef11750159b235400ae7410b22/5BE2611E/t51.2885-15/e15/40087337_235997023739987_962860367011119104_n.jpg', 'is_video': True, 'text': '@13_girls ❤️👼🏻', 'title': '@13_girls ❤️👼🏻 ', 'language': 'ca', 'shortcode': 'Bnd1uWYDa3y', 'comments_count': 1570, 'timestamp': 1536412148, 'foundtime': 1541416204, 'like_count': 180150, 'owner': '189003872', 'url': 'https://www.instagram.com/p/Bnd1uWYDa3y'}\n",
      "{'id': '1863579082757672934', 'display_url': 'https://instagram.fdnk1-2.fna.fbcdn.net/vp/7228b6c067a94ae55a80985cfb3def6a/5BE2AAB0/t51.2885-15/e15/40372960_2009667029323922_1798721317038456832_n.jpg', 'is_video': True, 'text': 'Все наши заслуги ничтожны пред ликом Всевышнего...', 'title': 'Все наши заслуги ничтожны пред ликом Всевышнего... ', 'language': 'ru', 'shortcode': 'Bncw01Wno_m', 'comments_count': 1618, 'timestamp': 1536376270, 'foundtime': 1541416204, 'like_count': 181065, 'owner': '189003872', 'url': 'https://www.instagram.com/p/Bncw01Wno_m'}\n",
      "{'id': '1862443583790820526', 'display_url': 'https://instagram.fdnk1-2.fna.fbcdn.net/vp/e1ea88f9b074d566a2b613fac24c5023/5BE299B6/t51.2885-15/e15/40251872_326380941466671_9016604825097338880_n.jpg', 'is_video': True, 'text': 'Уважаемые подписчики, данная публикация не является рекламной. Это моя личная инициатива и желание поддержать @mossobyanin тк это ключевая фигура моего родного города, в котором я родился и живу, который люблю как ни один другой. Я не в хожу в число граждан для которых стакан воды, всегда полу пустой )) я объективно оцениваю проделанную работу и ставлю ей высокую оценку !!! Москва красива как никогда. Факт. Для всех горожан разделяющих мою точку зрения: увидимся на выборах Мэра Москвы 9 Сентября 👍🏼', 'title': 'Уважаемые подписчики, данная публикация не является рекламной. Это моя личная инициатива ', 'language': 'ru', 'shortcode': 'BnYupJiDqyu', 'comments_count': 4258, 'timestamp': 1536241396, 'foundtime': 1541416204, 'like_count': 233401, 'owner': '189003872', 'url': 'https://www.instagram.com/p/BnYupJiDqyu'}\n",
      "{'id': '1861231501606980995', 'display_url': 'https://instagram.fdnk1-2.fna.fbcdn.net/vp/d7e65f2d48ef3b890b0cf4616ec1bb0b/5BE27716/t51.2885-15/e15/40448580_701916936859600_3768339150856519680_n.jpg', 'is_video': True, 'text': 'Рад вернуться в график. Работа кипит, этот сезон будет полон релизов со всех сторон. Мы в дороге. Кишинёв, спасибо за тёплый приём !!! #турпоколениетимати 🚀', 'title': 'Рад вернуться в график. Работа кипит, этот сезон будет полон релизов ', 'language': 'ru', 'shortcode': 'BnUbDCCDQ2D', 'comments_count': 1195, 'timestamp': 1536096362, 'foundtime': 1541416204, 'like_count': 171136, 'owner': '189003872', 'url': 'https://www.instagram.com/p/BnUbDCCDQ2D'}\n",
      "{'id': '1858952905987287515', 'display_url': 'https://instagram.fdnk1-2.fna.fbcdn.net/vp/396c350b749a8774a23d0f3fe73179b5/5C769414/t51.2885-15/e35/39494161_909553365921498_2926197210590740480_n.jpg', 'is_video': False, 'text': '25.08.18  @volkonskaya.reshetova', 'title': '25.08.18  @volkonskaya.reshetova ', 'language': 'sk', 'shortcode': 'BnMU9GfjWnb', 'comments_count': 11825, 'timestamp': 1535824476, 'foundtime': 1541416204, 'like_count': 864777, 'owner': '189003872', 'url': 'https://www.instagram.com/p/BnMU9GfjWnb'}\n",
      "{'id': '1857329343069219606', 'display_url': 'https://instagram.fdnk1-2.fna.fbcdn.net/vp/992b9a82421cca350064e12ea6491a8f/5BE26375/t51.2885-15/e15/39375426_233452917331619_2128390770317590528_n.jpg', 'is_video': True, 'text': 'Масштаб этой личности - всегда был для меня большим примером 🙏🏼🙏🏼🙏🏼 И.Д.Кобзон', 'title': 'Масштаб этой личности - всегда был для меня большим примером 🙏🏼🙏🏼🙏🏼 ', 'language': 'ru', 'shortcode': 'BnGjzJsjOsW', 'comments_count': 2032, 'timestamp': 1535631147, 'foundtime': 1541416204, 'like_count': 267264, 'owner': '189003872', 'url': 'https://www.instagram.com/p/BnGjzJsjOsW'}\n",
      "{'id': '1855882952258282514', 'display_url': 'https://instagram.fdnk1-2.fna.fbcdn.net/vp/bcb0cf92082b6b8fb01ac1867a0f6c7d/5BE24F7B/t51.2885-15/e15/39306074_420837891775636_6248869719927947264_n.jpg', 'is_video': True, 'text': 'Когда Папа по совместительству, герой комиксов Марвела )))', 'title': 'Когда Папа по совместительству, герой комиксов Марвела ))) ', 'language': 'ru', 'shortcode': 'BnBa7ZSDuQS', 'comments_count': 3353, 'timestamp': 1535458578, 'foundtime': 1541416204, 'like_count': 450481, 'owner': '189003872', 'url': 'https://www.instagram.com/p/BnBa7ZSDuQS'}\n"
     ]
    },
    {
     "name": "stderr",
     "output_type": "stream",
     "text": [
      "PUT http://media-audit.com:9200/instagram/local/1902929609117627206/_create [status:409 request:0.023s]\n",
      "PUT http://media-audit.com:9200/instagram/local/1901093215126610637/_create [status:409 request:0.017s]\n",
      "PUT http://media-audit.com:9200/instagram/local/1899401711773156481/_create [status:409 request:0.019s]\n"
     ]
    },
    {
     "name": "stdout",
     "output_type": "stream",
     "text": [
      "{'id': '1853641022572981729', 'display_url': 'https://instagram.fdnk1-2.fna.fbcdn.net/vp/0559c4b2dedc462d66710312ed70f70d/5C651267/t51.2885-15/e35/39779031_227279128131337_2401749289630957568_n.jpg', 'is_video': False, 'text': 'Качает как надо ))) 🌊🙌🏼', 'title': 'Качает как надо ))) 🌊🙌🏼 ', 'language': 'mk', 'shortcode': 'Bm5dLBjje3h', 'comments_count': 2315, 'timestamp': 1535191251, 'foundtime': 1541416204, 'like_count': 336571, 'owner': '189003872', 'url': 'https://www.instagram.com/p/Bm5dLBjje3h'}\n",
      "{'id': '1852937186275445712', 'display_url': 'https://instagram.fdnk1-2.fna.fbcdn.net/vp/aa5e25e45525a4838501b36ca713786f/5C67C3E0/t51.2885-15/e35/39752946_293249634795390_3840786392917475328_n.jpg', 'is_video': False, 'text': 'Меня предупреждали местные, что Шарк-туры больше не проводят, не из-за того что были атаки на дайверов, а из-за того что несколько людей умерли от сердечного приступа при виде Акулы. Я им не верил, а зря...', 'title': 'Меня предупреждали местные, что Шарк-туры больше не проводят, не из-за того ', 'language': 'ru', 'shortcode': 'Bm29I27D0vQ', 'comments_count': 9022, 'timestamp': 1535107347, 'foundtime': 1541416204, 'like_count': 795497, 'owner': '189003872', 'url': 'https://www.instagram.com/p/Bm29I27D0vQ'}\n",
      "{'id': '1852355780813837844', 'display_url': 'https://instagram.fdnk1-2.fna.fbcdn.net/vp/63fb8e245386743dafd9d2516e0f59b7/5C6CF209/t51.2885-15/e35/39312133_213860639481501_7182237272366907392_n.jpg', 'is_video': False, 'text': 'В поисках идеальной 🌊🙏🏼', 'title': 'В поисках идеальной 🌊🙏🏼 ', 'language': 'ru', 'shortcode': 'Bm048S5DNYU', 'comments_count': 1588, 'timestamp': 1535038038, 'foundtime': 1541416204, 'like_count': 363385, 'owner': '189003872', 'url': 'https://www.instagram.com/p/Bm048S5DNYU'}\n",
      "{'id': '1851722042316687163', 'display_url': 'https://instagram.fdnk1-2.fna.fbcdn.net/vp/4f8576f9fca58abf43638dacc95cef13/5C8001C6/t51.2885-15/e35/38900094_2127423784177885_6210832901144051712_n.jpg', 'is_video': False, 'text': 'Сказать что я ждал этой встречи, ну просто как ничего не сказать... 🙌🏼🌊', 'title': 'Сказать что я ждал этой встречи, ну просто как ничего не ', 'language': 'ru', 'shortcode': 'Bmyo2L7DAc7', 'comments_count': 1746, 'timestamp': 1534962490, 'foundtime': 1541416204, 'like_count': 389731, 'owner': '189003872', 'url': 'https://www.instagram.com/p/Bmyo2L7DAc7'}\n",
      "{'id': '1851306810507300015', 'display_url': 'https://instagram.fdnk1-2.fna.fbcdn.net/vp/cc5f639314717cf53c7f38a3b5afa76f/5C6EEE4E/t51.2885-15/e35/39072556_997568977082495_3812475875467722752_n.jpg', 'is_video': False, 'text': 'Долгожданный трип на острова с любимой ))', 'title': 'Долгожданный трип на острова с любимой )) ', 'language': 'ru', 'shortcode': 'BmxKbxKjIyv', 'comments_count': 1530, 'timestamp': 1534912991, 'foundtime': 1541416204, 'like_count': 441482, 'owner': '189003872', 'url': 'https://www.instagram.com/p/BmxKbxKjIyv'}\n",
      "Delete Id =1902929609117627206\n",
      "Id = 1902929609117627206 was upload \n",
      "\n",
      "ok\n",
      "Delete Id =1901093215126610637\n",
      "Id = 1901093215126610637 was upload \n",
      "\n",
      "ok\n",
      "Delete Id =1899401711773156481\n",
      "Id = 1899401711773156481 was upload \n",
      "\n",
      "ok\n"
     ]
    },
    {
     "name": "stderr",
     "output_type": "stream",
     "text": [
      "PUT http://media-audit.com:9200/instagram/local/1897491307778071934/_create [status:409 request:0.020s]\n",
      "PUT http://media-audit.com:9200/instagram/local/1895725356518788037/_create [status:409 request:0.014s]\n",
      "PUT http://media-audit.com:9200/instagram/local/1894319856975669666/_create [status:409 request:0.027s]\n",
      "PUT http://media-audit.com:9200/instagram/local/1893562408941691424/_create [status:409 request:0.012s]\n"
     ]
    },
    {
     "name": "stdout",
     "output_type": "stream",
     "text": [
      "Delete Id =1897491307778071934\n",
      "Id = 1897491307778071934 was upload \n",
      "\n",
      "ok\n",
      "Delete Id =1895725356518788037\n",
      "Id = 1895725356518788037 was upload \n",
      "\n",
      "ok\n",
      "Delete Id =1894319856975669666\n",
      "Id = 1894319856975669666 was upload \n",
      "\n",
      "ok\n",
      "Delete Id =1893562408941691424\n",
      "Id = 1893562408941691424 was upload \n",
      "\n",
      "ok\n"
     ]
    },
    {
     "name": "stderr",
     "output_type": "stream",
     "text": [
      "PUT http://media-audit.com:9200/instagram/local/1892910151241906333/_create [status:409 request:0.019s]\n",
      "PUT http://media-audit.com:9200/instagram/local/1892283205000723883/_create [status:409 request:0.012s]\n",
      "PUT http://media-audit.com:9200/instagram/local/1892132904474037177/_create [status:409 request:0.014s]\n",
      "PUT http://media-audit.com:9200/instagram/local/1891388355669771287/_create [status:409 request:0.015s]\n"
     ]
    },
    {
     "name": "stdout",
     "output_type": "stream",
     "text": [
      "Delete Id =1892910151241906333\n",
      "Id = 1892910151241906333 was upload \n",
      "\n",
      "ok\n",
      "Delete Id =1892283205000723883\n",
      "Id = 1892283205000723883 was upload \n",
      "\n",
      "ok\n",
      "Delete Id =1892132904474037177\n",
      "Id = 1892132904474037177 was upload \n",
      "\n",
      "ok\n",
      "Delete Id =1891388355669771287\n",
      "Id = 1891388355669771287 was upload \n",
      "\n",
      "ok\n"
     ]
    },
    {
     "name": "stderr",
     "output_type": "stream",
     "text": [
      "PUT http://media-audit.com:9200/instagram/local/1890758997401908512/_create [status:409 request:0.017s]\n",
      "PUT http://media-audit.com:9200/instagram/local/1890040463466065282/_create [status:409 request:0.013s]\n",
      "PUT http://media-audit.com:9200/instagram/local/1888631820669635015/_create [status:409 request:0.026s]\n",
      "PUT http://media-audit.com:9200/instagram/local/1887638948307485971/_create [status:409 request:0.017s]\n"
     ]
    },
    {
     "name": "stdout",
     "output_type": "stream",
     "text": [
      "Delete Id =1890758997401908512\n",
      "Id = 1890758997401908512 was upload \n",
      "\n",
      "ok\n",
      "Delete Id =1890040463466065282\n",
      "Id = 1890040463466065282 was upload \n",
      "\n",
      "ok\n",
      "Delete Id =1888631820669635015\n",
      "Id = 1888631820669635015 was upload \n",
      "\n",
      "ok\n",
      "Delete Id =1887638948307485971\n",
      "Id = 1887638948307485971 was upload \n",
      "\n",
      "ok\n"
     ]
    },
    {
     "name": "stderr",
     "output_type": "stream",
     "text": [
      "PUT http://media-audit.com:9200/instagram/local/1886505485331344997/_create [status:409 request:0.023s]\n",
      "PUT http://media-audit.com:9200/instagram/local/1885689487657448273/_create [status:409 request:0.020s]\n",
      "PUT http://media-audit.com:9200/instagram/local/1884910633623992807/_create [status:409 request:0.014s]\n",
      "PUT http://media-audit.com:9200/instagram/local/1884333438295703307/_create [status:409 request:0.015s]\n",
      "PUT http://media-audit.com:9200/instagram/local/1883788865535171232/_create [status:409 request:0.018s]\n"
     ]
    },
    {
     "name": "stdout",
     "output_type": "stream",
     "text": [
      "Delete Id =1886505485331344997\n",
      "Id = 1886505485331344997 was upload \n",
      "\n",
      "ok\n",
      "Delete Id =1885689487657448273\n",
      "Id = 1885689487657448273 was upload \n",
      "\n",
      "ok\n",
      "Delete Id =1884910633623992807\n",
      "Id = 1884910633623992807 was upload \n",
      "\n",
      "ok\n",
      "Delete Id =1884333438295703307\n",
      "Id = 1884333438295703307 was upload \n",
      "\n",
      "ok\n"
     ]
    },
    {
     "name": "stderr",
     "output_type": "stream",
     "text": [
      "PUT http://media-audit.com:9200/instagram/local/1882026345627491359/_create [status:409 request:0.017s]\n",
      "PUT http://media-audit.com:9200/instagram/local/1880567331999809972/_create [status:409 request:0.018s]\n",
      "PUT http://media-audit.com:9200/instagram/local/1879763765303374586/_create [status:409 request:0.016s]\n",
      "PUT http://media-audit.com:9200/instagram/local/1879085989658588007/_create [status:409 request:0.012s]\n"
     ]
    },
    {
     "name": "stdout",
     "output_type": "stream",
     "text": [
      "Delete Id =1883788865535171232\n",
      "Id = 1883788865535171232 was upload \n",
      "\n",
      "ok\n",
      "Delete Id =1882026345627491359\n",
      "Id = 1882026345627491359 was upload \n",
      "\n",
      "ok\n",
      "Delete Id =1880567331999809972\n",
      "Id = 1880567331999809972 was upload \n",
      "\n",
      "ok\n",
      "Delete Id =1879763765303374586\n",
      "Id = 1879763765303374586 was upload \n",
      "\n",
      "ok\n"
     ]
    },
    {
     "name": "stderr",
     "output_type": "stream",
     "text": [
      "PUT http://media-audit.com:9200/instagram/local/1877869254792758599/_create [status:409 request:0.012s]\n",
      "PUT http://media-audit.com:9200/instagram/local/1877623001341354866/_create [status:409 request:0.021s]\n",
      "PUT http://media-audit.com:9200/instagram/local/1875577525154632319/_create [status:409 request:0.015s]\n"
     ]
    },
    {
     "name": "stdout",
     "output_type": "stream",
     "text": [
      "Delete Id =1879085989658588007\n",
      "Id = 1879085989658588007 was upload \n",
      "\n",
      "ok\n",
      "Delete Id =1877869254792758599\n",
      "Id = 1877869254792758599 was upload \n",
      "\n",
      "ok\n",
      "Delete Id =1877623001341354866\n",
      "Id = 1877623001341354866 was upload \n",
      "\n",
      "ok\n"
     ]
    },
    {
     "name": "stderr",
     "output_type": "stream",
     "text": [
      "PUT http://media-audit.com:9200/instagram/local/1873539917624977443/_create [status:409 request:0.011s]\n",
      "PUT http://media-audit.com:9200/instagram/local/1872683802515231303/_create [status:409 request:0.013s]\n",
      "PUT http://media-audit.com:9200/instagram/local/1871069056688098381/_create [status:409 request:0.012s]\n"
     ]
    },
    {
     "name": "stdout",
     "output_type": "stream",
     "text": [
      "Delete Id =1875577525154632319\n",
      "Id = 1875577525154632319 was upload \n",
      "\n",
      "ok\n",
      "Delete Id =1873539917624977443\n",
      "Id = 1873539917624977443 was upload \n",
      "\n",
      "ok\n",
      "Delete Id =1872683802515231303\n",
      "Id = 1872683802515231303 was upload \n",
      "\n",
      "ok\n",
      "Delete Id =1871069056688098381\n",
      "Id = 1871069056688098381 was upload \n",
      "\n",
      "ok\n"
     ]
    },
    {
     "name": "stderr",
     "output_type": "stream",
     "text": [
      "PUT http://media-audit.com:9200/instagram/local/1869697270011608220/_create [status:409 request:0.015s]\n",
      "PUT http://media-audit.com:9200/instagram/local/1868468431163411764/_create [status:409 request:0.019s]\n",
      "PUT http://media-audit.com:9200/instagram/local/1867695955374976965/_create [status:409 request:0.018s]\n",
      "PUT http://media-audit.com:9200/instagram/local/1866995762686478043/_create [status:409 request:0.013s]\n"
     ]
    },
    {
     "name": "stdout",
     "output_type": "stream",
     "text": [
      "Delete Id =1869697270011608220\n",
      "Id = 1869697270011608220 was upload \n",
      "\n",
      "ok\n",
      "Delete Id =1868468431163411764\n",
      "Id = 1868468431163411764 was upload \n",
      "\n",
      "ok\n",
      "Delete Id =1867695955374976965\n",
      "Id = 1867695955374976965 was upload \n",
      "\n",
      "ok\n",
      "Delete Id =1866995762686478043\n"
     ]
    },
    {
     "name": "stderr",
     "output_type": "stream",
     "text": [
      "PUT http://media-audit.com:9200/instagram/local/1866722723637400575/_create [status:409 request:0.010s]\n",
      "PUT http://media-audit.com:9200/instagram/local/1865930129114146728/_create [status:409 request:0.016s]\n",
      "PUT http://media-audit.com:9200/instagram/local/1864869015978978086/_create [status:409 request:0.021s]\n",
      "PUT http://media-audit.com:9200/instagram/local/1864784609335401931/_create [status:409 request:0.012s]\n"
     ]
    },
    {
     "name": "stdout",
     "output_type": "stream",
     "text": [
      "Id = 1866995762686478043 was upload \n",
      "\n",
      "ok\n",
      "Delete Id =1866722723637400575\n",
      "Id = 1866722723637400575 was upload \n",
      "\n",
      "ok\n",
      "Delete Id =1865930129114146728\n",
      "Id = 1865930129114146728 was upload \n",
      "\n",
      "ok\n",
      "Delete Id =1864869015978978086\n",
      "Id = 1864869015978978086 was upload \n",
      "\n",
      "ok\n"
     ]
    },
    {
     "name": "stderr",
     "output_type": "stream",
     "text": [
      "PUT http://media-audit.com:9200/instagram/local/1863882102388141554/_create [status:409 request:0.017s]\n",
      "PUT http://media-audit.com:9200/instagram/local/1863579082757672934/_create [status:409 request:0.011s]\n",
      "PUT http://media-audit.com:9200/instagram/local/1862443583790820526/_create [status:409 request:0.014s]\n",
      "PUT http://media-audit.com:9200/instagram/local/1861231501606980995/_create [status:409 request:0.010s]\n"
     ]
    },
    {
     "name": "stdout",
     "output_type": "stream",
     "text": [
      "Delete Id =1864784609335401931\n",
      "Id = 1864784609335401931 was upload \n",
      "\n",
      "ok\n",
      "Delete Id =1863882102388141554\n",
      "Id = 1863882102388141554 was upload \n",
      "\n",
      "ok\n",
      "Delete Id =1863579082757672934\n",
      "Id = 1863579082757672934 was upload \n",
      "\n",
      "ok\n",
      "Delete Id =1862443583790820526\n",
      "Id = 1862443583790820526 was upload \n",
      "\n",
      "ok\n"
     ]
    },
    {
     "name": "stderr",
     "output_type": "stream",
     "text": [
      "PUT http://media-audit.com:9200/instagram/local/1858952905987287515/_create [status:409 request:0.015s]\n",
      "PUT http://media-audit.com:9200/instagram/local/1857329343069219606/_create [status:409 request:0.011s]\n",
      "PUT http://media-audit.com:9200/instagram/local/1855882952258282514/_create [status:409 request:0.013s]\n"
     ]
    },
    {
     "name": "stdout",
     "output_type": "stream",
     "text": [
      "Delete Id =1861231501606980995\n",
      "Id = 1861231501606980995 was upload \n",
      "\n",
      "ok\n",
      "Delete Id =1858952905987287515\n",
      "Id = 1858952905987287515 was upload \n",
      "\n",
      "ok\n",
      "Delete Id =1857329343069219606\n",
      "Id = 1857329343069219606 was upload \n",
      "\n",
      "ok\n",
      "Delete Id =1855882952258282514\n",
      "Id = 1855882952258282514 was upload \n",
      "\n",
      "ok\n"
     ]
    },
    {
     "name": "stderr",
     "output_type": "stream",
     "text": [
      "PUT http://media-audit.com:9200/instagram/local/1853641022572981729/_create [status:409 request:0.014s]\n",
      "PUT http://media-audit.com:9200/instagram/local/1852937186275445712/_create [status:409 request:0.020s]\n",
      "PUT http://media-audit.com:9200/instagram/local/1852355780813837844/_create [status:409 request:0.015s]\n",
      "PUT http://media-audit.com:9200/instagram/local/1851722042316687163/_create [status:409 request:0.014s]\n"
     ]
    },
    {
     "name": "stdout",
     "output_type": "stream",
     "text": [
      "Delete Id =1853641022572981729\n",
      "Id = 1853641022572981729 was upload \n",
      "\n",
      "ok\n",
      "Delete Id =1852937186275445712\n",
      "Id = 1852937186275445712 was upload \n",
      "\n",
      "ok\n",
      "Delete Id =1852355780813837844\n",
      "Id = 1852355780813837844 was upload \n",
      "\n",
      "ok\n",
      "Delete Id =1851722042316687163\n"
     ]
    },
    {
     "name": "stderr",
     "output_type": "stream",
     "text": [
      "PUT http://media-audit.com:9200/instagram/local/1851306810507300015/_create [status:409 request:0.017s]\n",
      "PUT http://media-audit.com:9200/instagram/local/189003872/_create [status:409 request:0.015s]\n"
     ]
    },
    {
     "name": "stdout",
     "output_type": "stream",
     "text": [
      "Id = 1851722042316687163 was upload \n",
      "\n",
      "ok\n",
      "Delete Id =1851306810507300015\n",
      "Id = 1851306810507300015 was upload \n",
      "\n",
      "ok\n",
      "Delete Id =189003872\n",
      "Id = 189003872 was upload \n",
      "\n",
      "ok\n"
     ]
    },
    {
     "name": "stderr",
     "output_type": "stream",
     "text": [
      "INFO [2018-11-05 13:10:09] [None]  Session ended - 2018-11-05 13:10:09\n",
      "INFO [2018-11-05 13:10:09] [None]  --------------------\n",
      "\n",
      "\n"
     ]
    }
   ],
   "source": [
    "scrapping()"
   ]
  },
  {
   "cell_type": "code",
   "execution_count": 33,
   "metadata": {},
   "outputs": [],
   "source": [
    "dat = br.get('https://www.instagram.com/graphql/query/?query_hash=ae21d996d1918b725a934c0ed7f59a74&variables=%7B%22id%22%3A%22189003872%22%2C%22first%22%3A200%2C%22after%22%3A%22QVFDRE1XYWphcDQtR1d3VUNfcUlZYWRLSEFnZHUyNmNKWjRMemNUTGZjb0taUFhmR05IaWRhVlNCTnB2SExzLU84NGhzSVd1MElBUlJfU00xUk4zQU92VA%3D%3D%22%7D')"
   ]
  },
  {
   "cell_type": "code",
   "execution_count": 34,
   "metadata": {},
   "outputs": [],
   "source": [
    "data  = json.loads(br.find_element_by_tag_name(\"pre\").text)"
   ]
  },
  {
   "cell_type": "code",
   "execution_count": 35,
   "metadata": {},
   "outputs": [
    {
     "ename": "KeyError",
     "evalue": "'edge_owner_to_timeline_media'",
     "traceback": [
      "\u001b[0;31m---------------------------------------------------------------------------\u001b[0m",
      "\u001b[0;31mKeyError\u001b[0m                                  Traceback (most recent call last)",
      "\u001b[0;32m<ipython-input-35-43770ef01ccf>\u001b[0m in \u001b[0;36m<module>\u001b[0;34m()\u001b[0m\n\u001b[0;32m----> 1\u001b[0;31m \u001b[0mnodes\u001b[0m \u001b[0;34m=\u001b[0m \u001b[0mdata\u001b[0m\u001b[0;34m[\u001b[0m\u001b[0;34m\"data\"\u001b[0m\u001b[0;34m]\u001b[0m\u001b[0;34m[\u001b[0m\u001b[0;34m\"user\"\u001b[0m\u001b[0;34m]\u001b[0m\u001b[0;34m[\u001b[0m\u001b[0;34m\"edge_owner_to_timeline_media\"\u001b[0m\u001b[0;34m]\u001b[0m\u001b[0;34m[\u001b[0m\u001b[0;34m\"edges\"\u001b[0m\u001b[0;34m]\u001b[0m\u001b[0;34m\u001b[0m\u001b[0m\n\u001b[0m",
      "\u001b[0;31mKeyError\u001b[0m: 'edge_owner_to_timeline_media'"
     ],
     "output_type": "error"
    }
   ],
   "source": [
    "nodes = data[\"data\"][\"user\"][\"edge_owner_to_timeline_media\"][\"edges\"]"
   ]
  },
  {
   "cell_type": "code",
   "execution_count": 36,
   "metadata": {},
   "outputs": [
    {
     "name": "stdout",
     "output_type": "stream",
     "text": [
      "1\n",
      "2\n",
      "3\n",
      "4\n",
      "5\n",
      "6\n",
      "7\n",
      "8\n",
      "9\n",
      "10\n",
      "11\n",
      "12\n",
      "13\n",
      "14\n",
      "15\n",
      "16\n",
      "17\n",
      "18\n",
      "19\n",
      "20\n",
      "21\n",
      "22\n",
      "23\n",
      "24\n",
      "25\n",
      "26\n",
      "27\n",
      "28\n",
      "29\n",
      "30\n",
      "31\n",
      "32\n",
      "33\n",
      "34\n",
      "35\n",
      "36\n",
      "37\n",
      "38\n",
      "39\n",
      "40\n",
      "41\n",
      "42\n",
      "43\n",
      "44\n",
      "45\n",
      "46\n",
      "47\n",
      "48\n",
      "49\n",
      "50\n"
     ]
    }
   ],
   "source": [
    "i = 0\n",
    "for n in nodes:\n",
    "    i += 1\n",
    "    print(i)"
   ]
  },
  {
   "cell_type": "code",
   "execution_count": null,
   "metadata": {},
   "outputs": [],
   "source": []
  }
 ],
 "metadata": {
  "kernelspec": {
   "display_name": "Python 3",
   "language": "python",
   "name": "python3"
  },
  "language_info": {
   "codemirror_mode": {
    "name": "ipython",
    "version": 3
   },
   "file_extension": ".py",
   "mimetype": "text/x-python",
   "name": "python",
   "nbconvert_exporter": "python",
   "pygments_lexer": "ipython3",
   "version": "3.6.5"
  }
 },
 "nbformat": 4,
 "nbformat_minor": 2
}
