{
 "cells": [
  {
   "cell_type": "code",
   "execution_count": 9,
   "metadata": {
    "scrolled": true
   },
   "outputs": [
    {
     "name": "stderr",
     "output_type": "stream",
     "text": [
      "INFO [2018-06-03 17:58:54] [zeusfsx]  Session started - 2018-06-03 17:58:54\n",
      "WARNING [2018-06-03 17:58:54] [zeusfsx]  Sorry, Record Activity is not working on Windows. We're working to fix this soon!\n",
      "INFO [2018-06-03 17:59:30] [zeusfsx]  Logged in successfully!\n",
      "INFO [2018-06-03 17:59:54] [zeusfsx]  Get information from Google\n",
      "INFO [2018-06-03 18:00:02] [zeusfsx]  Finished get information from Google\n",
      "INFO [2018-06-03 18:00:06] [zeusfsx]  Session ended - 2018-06-03 18:00:06\n",
      "INFO [2018-06-03 18:00:06] [zeusfsx]  --------------------\n",
      "\n",
      "\n"
     ]
    }
   ],
   "source": [
    "import json\n",
    "from instapy import InstaPy\n",
    "from re import findall\n",
    "import math\n",
    "from selenium.common.exceptions import NoSuchElementException\n",
    "from selenium.webdriver.common.keys import Keys\n",
    "from time import sleep\n",
    "insta_username = ''\n",
    "insta_password = ''\n",
    "\n",
    "mail_address = ''\n",
    "password = ''\n",
    "\n",
    "session = InstaPy(username=insta_username, password=insta_password)\n",
    "session.login()\n",
    "session.google_login(mail_address,password)\n",
    "req='нова пошта'\n",
    "session.google_to_json(req,time=1)\n",
    "session.end()"
   ]
  },
  {
   "cell_type": "code",
   "execution_count": null,
   "metadata": {
    "collapsed": true
   },
   "outputs": [],
   "source": [
    "        if not self.google:\n",
    "            self.logger.info(\"Couldn`t logout from Google\")\n",
    "            return self\n",
    "        else:\n",
    "            try:\n",
    "                url = 'https://www.google.com'\n",
    "                self.browser.get(url)\n",
    "                exit_url = self.browser.find_element_by_id(\"gb_71\").get_attribute('href')\n",
    "                self.browser.get(exit_url)\n",
    "                sleep(5)\n",
    "            except:\n",
    "                self.logger.info(\"Couldn`t logout from Google\")\n",
    "                return self"
   ]
  },
  {
   "cell_type": "code",
   "execution_count": null,
   "metadata": {
    "collapsed": true
   },
   "outputs": [],
   "source": []
  }
 ],
 "metadata": {
  "kernelspec": {
   "display_name": "Python 3",
   "language": "python",
   "name": "python3"
  },
  "language_info": {
   "codemirror_mode": {
    "name": "ipython",
    "version": 3
   },
   "file_extension": ".py",
   "mimetype": "text/x-python",
   "name": "python",
   "nbconvert_exporter": "python",
   "pygments_lexer": "ipython3",
   "version": "3.6.1"
  }
 },
 "nbformat": 4,
 "nbformat_minor": 2
}
