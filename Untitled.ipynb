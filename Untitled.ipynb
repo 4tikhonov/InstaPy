{
 "cells": [
  {
   "cell_type": "code",
   "execution_count": 2,
   "metadata": {
    "scrolled": false
   },
   "outputs": [
    {
     "name": "stderr",
     "output_type": "stream",
     "text": [
      "INFO [2018-07-03 12:39:15] [None]  Session started - 2018-07-03 12:39:15\n",
      "WARNING [2018-07-03 12:39:15] [None]  Sorry, Record Activity is not working on Windows. We're working to fix this soon!\n",
      "INFO [2018-07-03 12:39:48] [None]  Logged in successfully!\n"
     ]
    },
    {
     "data": {
      "text/plain": [
       "<instapy.instapy.InstaPy at 0x1d864425c0>"
      ]
     },
     "execution_count": 2,
     "metadata": {},
     "output_type": "execute_result"
    }
   ],
   "source": [
    "import json\n",
    "from instapy import InstaPy\n",
    "from re import findall\n",
    "import math\n",
    "from selenium.common.exceptions import NoSuchElementException\n",
    "from selenium.webdriver.common.keys import Keys\n",
    "from time import sleep\n",
    "import json\n",
    "\n",
    "insta_username = 'zeusfsx'\n",
    "insta_password = 'instagrambot'\n",
    "\n",
    "\n",
    "session = InstaPy(username=insta_username, password=insta_password)\n",
    "session.login()\n"
   ]
  },
  {
   "cell_type": "code",
   "execution_count": 3,
   "metadata": {},
   "outputs": [
    {
     "name": "stderr",
     "output_type": "stream",
     "text": [
      "INFO [2018-07-03 12:41:26] [None]  Waiting 10 sec\n",
      "INFO [2018-07-03 12:41:26] [None]  Extracting information from podoliakk_\n"
     ]
    },
    {
     "name": "stdout",
     "output_type": "stream",
     "text": [
      "Getting only first 48 posts only, if you want to change this limit, change limit_amount value in crawl_profile.py\n",
      "\n",
      "Scrolling profile  12 / 48\n",
      "Scrolling profile  24 / 48\n",
      "Scrolling profile  36 / 48\n",
      "Scrolling profile  45 / 48\n",
      "\n",
      " 1 / 45\n",
      "\n",
      "Scrapping link:  https://www.instagram.com/p/BZ_RRhDAkyM/?__a=1\n",
      "\n",
      " 2 / 45\n",
      "\n",
      "Scrapping link:  https://www.instagram.com/p/Bkaxlziggpn/?__a=1\n",
      "\n",
      " 3 / 45\n",
      "\n",
      "Scrapping link:  https://www.instagram.com/p/BiZg_mLA2Au/?__a=1\n",
      "\n",
      " 4 / 45\n",
      "\n",
      "Scrapping link:  https://www.instagram.com/p/BRfBFiLA4Je/?__a=1\n",
      "\n",
      " 5 / 45\n",
      "\n",
      "Scrapping link:  https://www.instagram.com/p/BbQ0g8AATxw/?__a=1\n",
      "\n",
      " 6 / 45\n",
      "\n",
      "Scrapping link:  https://www.instagram.com/p/BbKU8k8gUVp/?__a=1\n",
      "\n",
      " 7 / 45\n",
      "\n",
      "Scrapping link:  https://www.instagram.com/p/BaB1SIZASav/?__a=1\n",
      "\n",
      " 8 / 45\n",
      "\n",
      "Scrapping link:  https://www.instagram.com/p/BVpNo-7g5yB/?__a=1\n",
      "\n",
      " 9 / 45\n",
      "\n",
      "Scrapping link:  https://www.instagram.com/p/BfSsQaggkUa/?__a=1\n",
      "\n",
      " 10 / 45\n",
      "\n",
      "Scrapping link:  https://www.instagram.com/p/BZl4yPJgqoO/?__a=1\n",
      "\n",
      " 11 / 45\n",
      "\n",
      "Scrapping link:  https://www.instagram.com/p/Bc_vYQNAtcX/?__a=1\n",
      "\n",
      " 12 / 45\n",
      "\n",
      "Scrapping link:  https://www.instagram.com/p/BRxh4xEgsvY/?__a=1\n",
      "\n",
      " 13 / 45\n",
      "\n",
      "Scrapping link:  https://www.instagram.com/p/BkQENMQAbyz/?__a=1\n",
      "\n",
      " 14 / 45\n",
      "\n",
      "Scrapping link:  https://www.instagram.com/p/Bj2_48VAaoA/?__a=1\n",
      "\n",
      " 15 / 45\n",
      "\n",
      "Scrapping link:  https://www.instagram.com/p/Bj1IblIgcw1/?__a=1\n",
      "\n",
      " 16 / 45\n",
      "\n",
      "Scrapping link:  https://www.instagram.com/p/BdxDR9QgnJ1/?__a=1\n",
      "\n",
      " 17 / 45\n",
      "\n",
      "Scrapping link:  https://www.instagram.com/p/BdNMQdTgIp1/?__a=1\n",
      "\n",
      " 18 / 45\n",
      "\n",
      "Scrapping link:  https://www.instagram.com/p/BZX4TTEANU1/?__a=1\n",
      "\n",
      " 19 / 45\n",
      "\n",
      "Scrapping link:  https://www.instagram.com/p/BVZOH-rAxBE/?__a=1\n",
      "\n",
      " 20 / 45\n",
      "\n",
      "Scrapping link:  https://www.instagram.com/p/Bkcszt1AQqS/?__a=1\n",
      "\n",
      " 21 / 45\n",
      "\n",
      "Scrapping link:  https://www.instagram.com/p/BRbWDkMA5fG/?__a=1\n",
      "\n",
      " 22 / 45\n",
      "\n",
      "Scrapping link:  https://www.instagram.com/p/BdXr8eEAEC_/?__a=1\n",
      "\n",
      " 23 / 45\n",
      "\n",
      "Scrapping link:  https://www.instagram.com/p/BdcIbDgAPbQ/?__a=1\n",
      "\n",
      " 24 / 45\n",
      "\n",
      "Scrapping link:  https://www.instagram.com/p/BRYuswIgJUc/?__a=1\n",
      "\n",
      " 25 / 45\n",
      "\n",
      "Scrapping link:  https://www.instagram.com/p/BN7DhA-DNXJ/?__a=1\n",
      "\n",
      " 26 / 45\n",
      "\n",
      "Scrapping link:  https://www.instagram.com/p/BVXQ-g9AqnB/?__a=1\n",
      "\n",
      " 27 / 45\n",
      "\n",
      "Scrapping link:  https://www.instagram.com/p/Bjx9U99gHv0/?__a=1\n",
      "\n",
      " 28 / 45\n",
      "\n",
      "Scrapping link:  https://www.instagram.com/p/BS7cYYlA8S0/?__a=1\n",
      "\n",
      " 29 / 45\n",
      "\n",
      "Scrapping link:  https://www.instagram.com/p/Bd4x6QBgBxN/?__a=1\n",
      "\n",
      " 30 / 45\n",
      "\n",
      "Scrapping link:  https://www.instagram.com/p/BORgDZ_gfz2/?__a=1\n",
      "\n",
      " 31 / 45\n",
      "\n",
      "Scrapping link:  https://www.instagram.com/p/BOzkRrKDPFU/?__a=1\n",
      "\n",
      " 32 / 45\n",
      "\n",
      "Scrapping link:  https://www.instagram.com/p/BkpakIlA6r-/?__a=1\n",
      "\n",
      " 33 / 45\n",
      "\n",
      "Scrapping link:  https://www.instagram.com/p/BbWnhlPg6O-/?__a=1\n",
      "\n",
      " 34 / 45\n",
      "\n",
      "Scrapping link:  https://www.instagram.com/p/BcaTy2tAIRW/?__a=1\n",
      "\n",
      " 35 / 45\n",
      "\n",
      "Scrapping link:  https://www.instagram.com/p/Bj_50nTAs55/?__a=1\n",
      "\n",
      " 36 / 45\n",
      "\n",
      "Scrapping link:  https://www.instagram.com/p/BRYxpzugnIy/?__a=1\n",
      "\n",
      " 37 / 45\n",
      "\n",
      "Scrapping link:  https://www.instagram.com/p/BYpp08NgCej/?__a=1\n",
      "\n",
      " 38 / 45\n",
      "\n",
      "Scrapping link:  https://www.instagram.com/p/BgeVrhFnv7e/?__a=1\n",
      "\n",
      " 39 / 45\n",
      "\n",
      "Scrapping link:  https://www.instagram.com/p/Bj4PKbtg5Xb/?__a=1\n",
      "\n",
      " 40 / 45\n",
      "\n",
      "Scrapping link:  https://www.instagram.com/p/BjvE5E_Aj74/?__a=1\n",
      "\n",
      " 41 / 45\n",
      "\n",
      "Scrapping link:  https://www.instagram.com/p/BfQf5-AAA9n/?__a=1\n",
      "\n",
      " 42 / 45\n",
      "\n",
      "Scrapping link:  https://www.instagram.com/p/BdZKcLtgBky/?__a=1\n",
      "\n",
      " 43 / 45\n",
      "\n",
      "Scrapping link:  https://www.instagram.com/p/Bdnl7FIANmu/?__a=1\n",
      "\n",
      " 44 / 45\n",
      "\n",
      "Scrapping link:  https://www.instagram.com/p/BYnbculANdO/?__a=1\n",
      "\n",
      " 45 / 45\n",
      "\n",
      "Scrapping link:  https://www.instagram.com/p/BZT-OxPAWSy/?__a=1\n"
     ]
    },
    {
     "name": "stderr",
     "output_type": "stream",
     "text": [
      "INFO [2018-07-03 12:43:35] [None]  \n",
      "Finished. The json file of usesaved in profiles directory.\n",
      "\n"
     ]
    },
    {
     "name": "stdout",
     "output_type": "stream",
     "text": [
      "True\n",
      "None\n"
     ]
    }
   ],
   "source": [
    "limit_amount = 12000\n",
    "data = session.accounts_to_json([\"podoliakk_\"],limit_amount)\n",
    "print(data)\n",
    "#session.feeds_to_json(limit_amount = 15)\n",
    "#session.export(data)"
   ]
  },
  {
   "cell_type": "code",
   "execution_count": null,
   "metadata": {
    "collapsed": true
   },
   "outputs": [],
   "source": [
    "from datetime import datetime\n",
    "int(datetime.now().timestamp())"
   ]
  },
  {
   "cell_type": "code",
   "execution_count": null,
   "metadata": {
    "collapsed": true
   },
   "outputs": [],
   "source": []
  },
  {
   "cell_type": "code",
   "execution_count": null,
   "metadata": {
    "collapsed": true
   },
   "outputs": [],
   "source": []
  }
 ],
 "metadata": {
  "kernelspec": {
   "display_name": "Python 3",
   "language": "python",
   "name": "python3"
  },
  "language_info": {
   "codemirror_mode": {
    "name": "ipython",
    "version": 3
   },
   "file_extension": ".py",
   "mimetype": "text/x-python",
   "name": "python",
   "nbconvert_exporter": "python",
   "pygments_lexer": "ipython3",
   "version": "3.6.1"
  }
 },
 "nbformat": 4,
 "nbformat_minor": 2
}
